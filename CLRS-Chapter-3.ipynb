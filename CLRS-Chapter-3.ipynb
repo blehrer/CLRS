{
 "cells": [
  {
   "cell_type": "markdown",
   "id": "facf3b8c-5320-416b-a7dd-1b1b55e05b7c",
   "metadata": {},
   "source": [
    "# Growth of functions"
   ]
  },
  {
   "cell_type": "markdown",
   "id": "e12056f1-8518-4a81-984b-74d7e1f0c021",
   "metadata": {},
   "source": [
    "## Asymptotic notation\n",
    "\n",
    "$f = O(g)$\n",
    "- $f$ is asymptotically upper-bounded by $g$\n",
    "- $\\exists{K}, \\exists{N} | \\forall n \\leq N:  f(n) \\leq K\\times g(n)$\n",
    "- $g$ overtakes $f$ at some point... $g$ can be multiplied by a positive constant\n",
    "\n",
    "$f = o(g)$\n",
    "- $f$ is asymptotically upper-bounded by $g$, but the difference becomes insignificant...$\\lim_{n\\to\\infty} \\frac{f(n)}{g(n)} = 0$\n",
    "\n",
    "$f = \\Omega(g)$\n",
    "- $f$ is asymptotically lower-bounded by $g$\n",
    "- $\\exists{K}, \\exists{N} | \\forall n \\leq N:  f(n) \\geq K\\times g(n)$\n",
    " \n",
    "$f = \\omega(g)$\n",
    "- $f$ is asymptotically lower-bounded by $g$ , but the difference becomes insignificant...$\\lim_{n\\to\\infty} \\frac{f(n)}{g(n)} = 0$\n",
    "\n",
    "$f = \\Theta(g)$\n",
    "- $f$ is asymptotically equal to $g$\n",
    "- $f = O(g) \\land f = \\Omega(g) \\land O(f)=O(g)$\n",
    "- $\\Theta(g) \\subseteq \\{\\Omega(g), O(g)\\}$"
   ]
  },
  {
   "cell_type": "markdown",
   "id": "d2177f88-fae0-446d-9a1e-a9d5b35ec21e",
   "metadata": {},
   "source": [
    "### example: $\\Theta, \\Omega, O$\n",
    "Original form\n",
    "> $f: 1.2*2^n$\n",
    "\n",
    "> $g: 2.4*2^{2n}$\n",
    "\n",
    "Asymptotic equivalents\n",
    "> $f: 2^n$\n",
    "\n",
    "> $g = f^2 ... g=(2^n)^2$\n",
    "\n",
    "> $g: 2^{2n}$\n",
    "\n",
    "$\\therefore$\n",
    "\n",
    "> $f = O(g)$\n",
    ">\n",
    "> f is asymptoticaly upper-bounded by $g$\n",
    "\n",
    "> $g = \\Omega(f)$\n",
    ">\n",
    "> $g$ is asymptotically lower-bounded by $f$\n",
    "\n",
    "> $f \\neq \\Theta(g)a$\n",
    ">\n",
    "> $f$ is not asymptotically equal to $g$.\n",
    "\n",
    "> $\\therefore$\n",
    ">\n",
    "> $g \\neq \\Theta(f)$\n",
    ">\n",
    "> $g$ is not asymptotically equal to $f$"
   ]
  },
  {
   "cell_type": "markdown",
   "id": "b1c447a0-8a6e-4a40-951d-de8caee74551",
   "metadata": {},
   "source": [
    "### Comparing asymptotic functions\n",
    "\n",
    "- Transitivity: $f(n) = \\Theta(g(n) \\land g(n) = \\Theta(h(n)) \\implies f(n) = \\Theta(h(n)))$\n",
    "    - Holds for ${\\omega, \\Omega, o, O, and \\Theta}$\n",
    "\n",
    "- Reflexivity: $f(n) = \\Theta(f(n))$\n",
    "    - Holds for ${\\Omega, O, and \\Theta}$\n",
    "\n",
    "- Symmetry: $f(n) = \\Theta(g(n)) \\iff g(n = \\Theta(f(n))$\n",
    "    - $\\Theta$ only\n",
    "\n",
    "- Transpose Symmetry: $f(n) = O(g(n)) \\iff g(n) = \\Omega(f(n))$\n",
    "    - by extension we can draw an analogy between comparisons of asymptotic numbers and real numbers:\n",
    "        - $f(n) = O(g(n)) \\text{ is like } a \\leq b$\n",
    "        - $f(n) = \\Omega(g(n)) \\text{ is like } a \\geq b$\n",
    "        - $f(n) = \\Theta(g(n)) \\text{ is like } a = b$\n",
    "        - $f(n) = o(g(n)) \\text{ is like } a \\lt b$\n",
    "        - $f(n) = \\omega(g(n)) \\text{ is like } a \\gt b$"
   ]
  },
  {
   "cell_type": "markdown",
   "id": "452bfe2e-8976-4205-9002-33274c03742a",
   "metadata": {},
   "source": [
    "## What we know from calculus"
   ]
  },
  {
   "cell_type": "markdown",
   "id": "098519b0-755f-4a99-a6aa-0d66803a49a2",
   "metadata": {},
   "source": [
    "### logarithms\n",
    "$(log_a{b} = c) == (a^c = b)$\n",
    "\n",
    "\n",
    "\n",
    "- Given $a>0,b>0,c>0,n>0$...\n",
    "    - $a = b^{log_b{a}}$\n",
    "    - $log_c{ab} = log_c{a} + log_c{b}$\n",
    "    - $log_b{a^n} = n log_b{a}$\n",
    "    - $log_a{b} = {log_c{b}}\\div{log_c{a}}$\n",
    "    - $log_b{\\frac{1}{a}} = -log_b{a}$\n",
    "    - $a^{log_b{c}} = c^{log_b{a}}$"
   ]
  },
  {
   "cell_type": "markdown",
   "id": "aadc9a37-ea8c-40e5-a99e-de18e5b93d75",
   "metadata": {},
   "source": [
    "### Exponent factoring\n",
    "- $a^{bc} = (a^b)^c = (a^c)^b = a^{cb}$\n",
    "- $a^b\\times a^c = a^{b+c}$\n",
    "  \n",
    "$1.4*3^n \\text{ in asymptotic notation is } 3^n$"
   ]
  },
  {
   "cell_type": "markdown",
   "id": "f8778968-b13d-4fda-b364-7a3eac8bf417",
   "metadata": {},
   "source": [
    "### converting log bases\n",
    "\n",
    "$\\log_a{b} = {\\log_c{b}}\\div{\\log_c{a}}$\n",
    "\n",
    "or equivalently:\n",
    "\n",
    "$\\log_a{b} \\times \\log_b{c} = \\log_a{c}$\n",
    "> Like knowing how much amplification it takes to get a ripple to reach a out to some distance.\n",
    "> \n",
    "> If your ripple can start at an energy level of $a$, and you can crank it to reach $b$, with $x$ amount of amplification,...\n",
    ">\n",
    "> If your ripple can start at an energy level of $b$, and you can crank it to reach $c$, with $w$ amount of amplification,...\n",
    ">\n",
    "> Then you can figure out how much power it would take to go from $a$ to $c$ by calculating $x \\times w$\n",
    ">\n",
    "> For example:\n",
    ">\n",
    ">> It takes $x=2$ steps-of-power to get from $a$ to $b$\n",
    ">> \n",
    ">> It takes $w=3$ steps-of-power to get from $b$ to $c$\n",
    ">>\n",
    ">> $\\therefore$ it takes $x*w=6$ steps-of-power to go directly from $a$ to $c$.\n",
    "\n",
    "Here's how it works: if you know how many times $c$ must be multiplied to get $b$ (that’s $\\log_c{b}$) and how many times $c$ must be multiplied to get $a$ (that’s $\\log_c{a}$), dividing these two gives you how many times $a$ must be multiplied to get $b$. \n",
    "\n",
    "It’s a chain reaction! \n",
    "\n",
    "\n",
    "\n",
    "Useful for scenarios where you have a combination of $\\lg n$ and $n^k$"
   ]
  },
  {
   "cell_type": "markdown",
   "id": "71315869-f15a-48ad-a5fe-b82d8a8da8f6",
   "metadata": {},
   "source": [
    "### example: factoring logarithms\n",
    "\n",
    "> $f: \\lg{n}$\n",
    ">\n",
    "> $g: log_5{n}$\n",
    "\n",
    "How are `f` and `g` related?\n",
    "\n",
    "> $g: \\log_5{n}$ is equivalent to $g: \\log_5{2}\\times\\lg{n}$\n",
    ">\n",
    "> Notice now that $log_5(2)$ has been factored out as a constant.\n",
    ">\n",
    "> $g: \\cancel{\\log_5{2}}\\lg{n}$\n",
    ">\n",
    "> From here we can claim that $f = \\Theta(g)$ and $g = \\Theta(f)$"
   ]
  },
  {
   "cell_type": "markdown",
   "id": "592f9909-c86a-4952-916c-a1c7647e3e2e",
   "metadata": {},
   "source": [
    "## Classes of time complexity\n",
    "- Constant\n",
    "    - $\\Theta(1)$ \n",
    "- Polynomial\n",
    "    - $\\Theta(\\lg{n})$ \n",
    "    - $\\Theta(n\\lg{n})$ \n",
    "    - $\\Theta(n^2)$ \n",
    "    - $\\Theta(n^3)$ \n",
    "    - $\\Theta(n^4)$ \n",
    "- Polylog\n",
    "    - $\\Theta(2^{\\lg{n}})$ \n",
    "- Exponential\n",
    "    - $\\Theta(2^n)$ \n",
    "    - $\\Theta(3^n)$\n",
    "    - $\\Theta(n!)$ \n",
    "\n",
    "> **FACT:** any exponential function with a base strictly greater than 1 grows faster than any polynomial function"
   ]
  },
  {
   "cell_type": "markdown",
   "id": "caa5f472-9cd0-47c7-8047-21b8fe86f2d2",
   "metadata": {},
   "source": []
  }
 ],
 "metadata": {
  "kernelspec": {
   "display_name": "Python 3 (ipykernel)",
   "language": "python",
   "name": "python3"
  },
  "language_info": {
   "codemirror_mode": {
    "name": "ipython",
    "version": 3
   },
   "file_extension": ".py",
   "mimetype": "text/x-python",
   "name": "python",
   "nbconvert_exporter": "python",
   "pygments_lexer": "ipython3",
   "version": "3.14.0"
  }
 },
 "nbformat": 4,
 "nbformat_minor": 5
}
