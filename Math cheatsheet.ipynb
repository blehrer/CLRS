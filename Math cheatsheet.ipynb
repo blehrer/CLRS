{
 "cells": [
  {
   "cell_type": "markdown",
   "id": "f48962e7-a416-4fd8-8104-0701f5eec189",
   "metadata": {},
   "source": [
    "# Math Cheatsheet\n",
    "\n",
    "## converting log bases\n",
    "\n",
    "$$\\log_a{x} = \\frac{\\log_b{x}}{\\log_b{a}}$$\n",
    "Useful for scenarios where you have a combination of $\\lg n$ and $n^k$"
   ]
  }
 ],
 "metadata": {
  "kernelspec": {
   "display_name": "Python 3 (ipykernel)",
   "language": "python",
   "name": "python3"
  },
  "language_info": {
   "codemirror_mode": {
    "name": "ipython",
    "version": 3
   },
   "file_extension": ".py",
   "mimetype": "text/x-python",
   "name": "python",
   "nbconvert_exporter": "python",
   "pygments_lexer": "ipython3",
   "version": "3.13.5"
  }
 },
 "nbformat": 4,
 "nbformat_minor": 5
}
