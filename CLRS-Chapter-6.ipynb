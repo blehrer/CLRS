{
 "cells": [
  {
   "cell_type": "markdown",
   "id": "ca85d6ee-6bef-4749-9aaa-0c3163324140",
   "metadata": {},
   "source": [
    "#  Heaps (6.1)\n",
    "## Formal characteristics\n",
    "- Attributes\n",
    "    - length (size of the array)\n",
    "    - heap-size (size of the subarray that are in a heap; can be 0)\n",
    "\n",
    "- Properties of all heaps\n",
    "    - $A[i].parent$ = $A[\\lfloor i/2 \\rfloor]$\n",
    "    - $A[i].leftChild$ = $A[i*2]$\n",
    "    - $A[i].rightChild$ = $A[i*2 + 1]$\n",
    "    - Viewed as a tree\n",
    "        - The height of a node in a heap is the number of edges on the longest simple downward path from the node to a leaf\n",
    "        ```\n",
    "              1               height = 3\n",
    "            /   \\\n",
    "           2     8            height = 2\n",
    "          / \\   / \\\n",
    "         3   4  9  10         height = 1\n",
    "        ```\n",
    "\n",
    "- Properties of `min-heaps`\n",
    "    - *min heap property*: $A[i].parent \\leq A[i]$\n",
    "\n",
    "- Properties of `max-heaps`\n",
    "    - *max heap property*: $A[i].parent \\geq A[i]$\n",
    "\n",
    "- Procedures\n",
    "    - $MaxHeapify$\n",
    "        - Time complexity: $O(\\lg n)$\n",
    "        - Maintains the max-heap property\n",
    "    - $BuildMaxHeap$\n",
    "        - Time complexity: $O(n)$\n",
    "        - Converts any array to a max-heap\n",
    "    - $Heapsort$\n",
    "        - Time complexity: $O(n \\lg n)$\n",
    "        - Sorts an array in place \n",
    "    - Priority queue procedures:\n",
    "        - $MaxHeapInsert$\n",
    "            - Time complexity: $O(\\lg n)$\n",
    "        - $HeapExtractMax$\n",
    "            - Time complexity: $O(\\lg n)$\n",
    "        - $HeapIncreaseKey$\n",
    "            - Time complexity: $O(\\lg n)$\n",
    "        - $HeapMaximum$\n",
    "            - Time complexity: $O(\\lg n)$\n",
    "\n",
    "## Usage\n",
    "- min heaps: priority queues\n",
    "- max heaps: heapsort"
   ]
  },
  {
   "cell_type": "code",
   "execution_count": 1,
   "id": "7a8ddd13-efa6-4cb2-9f57-3f4384fe0d0e",
   "metadata": {},
   "outputs": [
    {
     "name": "stderr",
     "output_type": "stream",
     "text": [
      "/Users/nobut/workspace/blehrer/CLRS/.venv/lib/python3.14/site-packages/binarytree/__init__.py:30: UserWarning: pkg_resources is deprecated as an API. See https://setuptools.pypa.io/en/latest/pkg_resources.html. The pkg_resources package is slated for removal as early as 2025-11-30. Refrain from using this package or pin to Setuptools<81.\n",
      "  from pkg_resources import get_distribution\n"
     ]
    }
   ],
   "source": [
    "from abc import ABC, abstractmethod\n",
    "from typing import Callable\n",
    "import inspect \n",
    "from binarytree import build\n",
    "\n",
    "class Heap(ABC):\n",
    "    def __init__(self, ls):\n",
    "        self.ls = ls\n",
    "        self.length = len(ls)\n",
    "        self.heapsize = 1\n",
    "        head = build(ls)\n",
    "        assert head\n",
    "        self.digraphs = [head.graphviz()]\n",
    "\n",
    "    def __getitem__(self, i):\n",
    "        return self.ls[int(i)]\n",
    "\n",
    "    def __setitem__(self, i, v):\n",
    "        self.ls[int(i)] = v\n",
    "\n",
    "    def __repr__(self):\n",
    "        return f'{self.classname()} {self.ls}, heapsize: {self.heapsize}'\n",
    "\n",
    "    @abstractmethod\n",
    "    def classname(self) -> str:\n",
    "        ...\n",
    "\n",
    "    @abstractmethod\n",
    "    def heap_property_violation(self, i) -> int|None:\n",
    "        '''\n",
    "        Describes the appropriate relationship\n",
    "        between parents and children in the heap.\n",
    "\n",
    "        :param int i: parent index, to which derived child-indices are compared\n",
    "        :return: the index of the value that ought to be swapped for the value at self[i]\n",
    "        :rtype: int|None\n",
    "        '''\n",
    "        ...\n",
    "\n",
    "    def heapify(self, i):\n",
    "        '''\n",
    "        Bubbles down values that produce a heap-property violation, starting at index i\n",
    "\n",
    "        :param int i: parent index of the heap or subheap that will be walked.\n",
    "        '''\n",
    "\n",
    "        ...\n",
    "\n",
    "    def build(self):\n",
    "        '''\n",
    "        Transforms an unsorted self.ls into a heap\n",
    "        that abides by the heap-property\n",
    "        '''\n",
    "        ...\n",
    "\n",
    "    def sort(self):\n",
    "        '''\n",
    "        Takes self.heapsize from self.length to 1, while reordering self.ls\n",
    "        MaxHeap will give an ascending total order.\n",
    "        MinHeap will give a descending total order.\n",
    "        '''\n",
    "\n",
    "        ...\n",
    "\n",
    "    def bubbleup(self, i):\n",
    "        '''\n",
    "        Recursively increases the height of a value in the heap, until its\n",
    "        relation to its parent no longer violates self.heap_prop\n",
    "\n",
    "        :param int i: index, from which a parent-index is derived\n",
    "        '''\n",
    "        ...\n",
    "\n",
    "    def insert(self, val):\n",
    "        '''\n",
    "        Adds a new value to the heap, in a spot that satisfies self.heap_prop\n",
    "\n",
    "        :param val: comparable value to insert\n",
    "        '''\n",
    "        ...\n",
    "\n",
    "    def delete(self, i):\n",
    "        '''\n",
    "        Removes a value from the heap and rebalances the heap accordingly\n",
    "\n",
    "        :param int i: index to remove\n",
    "        '''\n",
    "        ...\n",
    "        \n",
    "    def _idx(self, i, fx:Callable[[int], int], basis=None):\n",
    "        idx = fx(i+1) - 1\n",
    "        if basis == 'length':\n",
    "            return idx if idx > -1 and idx < self.length else None\n",
    "        else:\n",
    "            return idx if idx > -1 and idx < self.heapsize else None\n",
    "\n",
    "    def left(self, i, basis=None):\n",
    "        return self._idx(i, lambda x: x*2, basis)\n",
    "\n",
    "    def right(self, i, basis=None):\n",
    "        return self._idx(i, lambda x: x*2 + 1, basis)\n",
    "\n",
    "    def parent(self, i, basis=None):\n",
    "        return self._idx(i, lambda x: x//2, basis)\n",
    "\n",
    "    def swap(self, head_idx, tail_idx):\n",
    "        self.highlight_edge(head_idx, tail_idx, color=\"red\")\n",
    "        temp = self[head_idx]\n",
    "        self[head_idx] = self[tail_idx]\n",
    "        self[tail_idx] = temp\n",
    "        self.highlight_edge(head_idx, tail_idx, color=\"green\")\n",
    "        self.retree_animation()\n",
    "\n",
    "    def to_gif(self, size=500):\n",
    "        ...\n",
    "\n",
    "    def retree_animation(self):\n",
    "        ...\n",
    "\n",
    "    def untree_animation(self):\n",
    "        ...\n",
    "\n",
    "    def to_digraph(self, comment=\"Heap Digraph\", label=None, highlights=None):\n",
    "        ...\n",
    "\n",
    "class MaxHeap(Heap):\n",
    "    def classname(self):\n",
    "        return __class__.__name__\n",
    "\n",
    "    def heap_property_violation(self, i):\n",
    "        li = self.left(i)\n",
    "        ri = self.right(i)\n",
    "        idx = i\n",
    "        if li and self[li] > self[i]:\n",
    "            idx = li\n",
    "        if ri and self[ri] > self[i]:\n",
    "            idx = ri\n",
    "        return idx if not idx == i else None\n",
    "\n",
    "class MinHeap(Heap):\n",
    "    def classname(self):\n",
    "        return __class__.__name__\n",
    "        \n",
    "    def heap_property_violation(self, i):\n",
    "        li = self.left(i)\n",
    "        ri = self.right(i)\n",
    "        idx = i\n",
    "        if li and self[li] < self[i]:\n",
    "            idx = li\n",
    "        if ri and self[ri] < self[i]:\n",
    "            idx = ri\n",
    "        return idx if not idx == i else Non\n"
   ]
  },
  {
   "cell_type": "markdown",
   "id": "3a96d345-8222-4e9e-ab65-f838eb1442ca",
   "metadata": {
    "editable": true,
    "slideshow": {
     "slide_type": ""
    },
    "tags": []
   },
   "source": [
    "## Excercises \n",
    "### Min/max cardinality of heap of height $h$ (6.1-1)\n",
    "- max: $2^h$\n",
    "- min: $2^{h-1} + 1$\n",
    "- max number of nodes at a given height: $\\lceil n/2^{h+1} \\rceil$\n",
    "\n",
    "### Show that an $n$-element heap has a height of $\\lfloor \\lg n \\rfloor$ (6.1-2)\n",
    "1. $\\text{Base case}$: a 0-element heap trivially has a height of $\\lfloor \\lg n \\rfloor$\n",
    "2. $\\text{Inductive hypothesis (IH)}$: $n$-element heap has a height of $\\lfloor \\lg n \\rfloor$\n",
    "3. $\\text{Induction steps}$\n",
    "    1. Let us assume $IH$ holds for $n$, and prove it for $n+1$.\n",
    "    2. A parent node may have a maximum of 2 children\n",
    "    3. We know that a min-heap like `[1,2,3]` has a height of 1 ($\\lg 2$), because the maximum number of edges between the root node and a leaf is 1\n",
    "    4. We know that a min-heap like `[1,2]` has a height of 1 ($\\lg 2$), because the maximum number of edges between the root node and a leaf is 1\n",
    "    5. We know that a min-heap like `[1]` has a height of 0 ($\\lg 1$)\n",
    "    6. We observe that this pattern would fan out across all children in the range of $2^i..2^{i+1}$\n",
    "    7. $\\therefore$ we know that an $n$-element heap has a height of $\\lfloor \\lg n \\rfloor$\n",
    "       $QED$"
   ]
  },
  {
   "cell_type": "markdown",
   "id": "a18145d7-da5b-490a-ae55-734ab9b35446",
   "metadata": {},
   "source": [
    "### Where in a max heap might the smallest element reside (6.1-4)\n",
    "Assuming elements are distinct, and that the heap is balanced, the smallest element might be an element in the last $x$ elements of the heap, where $x = 2^{(\\lfloor \\lg n\\rfloor)}$ ... but consider `[16,4,10,14,7,9,1,3,8,2]`"
   ]
  },
  {
   "cell_type": "markdown",
   "id": "ae7ff8ff-4d99-47b4-91fe-d3a78d97999e",
   "metadata": {
    "editable": true,
    "slideshow": {
     "slide_type": ""
    },
    "tags": []
   },
   "source": [
    "### Visualization code"
   ]
  },
  {
   "cell_type": "code",
   "execution_count": 2,
   "id": "1e650d25-a59c-4a41-8ba2-864510d83e7f",
   "metadata": {},
   "outputs": [
    {
     "data": {
      "text/plain": [
       "True"
      ]
     },
     "execution_count": 2,
     "metadata": {},
     "output_type": "execute_result"
    }
   ],
   "source": [
    "import dotenv\n",
    "\n",
    "dotenv.load_dotenv()"
   ]
  },
  {
   "cell_type": "code",
   "execution_count": 3,
   "id": "a0ca44f5-80f3-40fe-8ace-03415e0edb83",
   "metadata": {
    "editable": true,
    "slideshow": {
     "slide_type": ""
    },
    "tags": []
   },
   "outputs": [],
   "source": [
    "import graphviz\n",
    "from graphviz import Digraph\n",
    "from IPython.display import display_markdown\n",
    "import pydot\n",
    "from wand.image import Image\n",
    "import hashlib\n",
    "import os\n",
    "\n",
    "def retree_animation(self):\n",
    "    \"\"\"\n",
    "    Resets the animation frame to the current state of self.ls,\n",
    "    represented as a tree\n",
    "    \"\"\"\n",
    "\n",
    "    next = build(self.ls)\n",
    "    assert next\n",
    "    self.digraphs.append(next.graphviz())\n",
    "Heap.retree_animation = retree_animation\n",
    "del retree_animation\n",
    "\n",
    "def untree_animation(self) -> graphviz.Digraph:\n",
    "    \"\"\"\n",
    "    Resets the animation frame to the current state of self.ls,\n",
    "    represented as an array\n",
    "    \"\"\"\n",
    "\n",
    "    digraph = graphviz.Digraph()\n",
    "    digraph.attr(kv=\"node\", shape=\"record\")\n",
    "    digraph.node(name=str(self.ls[0]), label=str(self.ls[0]))\n",
    "    if len(self.ls) > 1:\n",
    "        for i, v in enumerate(self.ls[1:]):\n",
    "            digraph.node(name=str(v), label=str(v))\n",
    "            digraph.edge(head_name=str(self[i]), tail_name=str(v))\n",
    "    return digraph\n",
    "Heap.untree_animation = untree_animation\n",
    "del untree_animation\n",
    "\n",
    "def highlight_edge(self, head_idx, tail_idx, color=\"red\"):\n",
    "    self.retree_animation()\n",
    "    next = build(self.ls)\n",
    "    assert next\n",
    "    gv = next.graphviz()\n",
    "    data = pydot.graph_from_dot_data(gv.source)\n",
    "    assert data\n",
    "    nodes: list[pydot.core.Node] = data[0].get_nodes()\n",
    "    tails = list(\n",
    "        filter(\n",
    "            lambda node: node.get_attributes().get(\"label\")\n",
    "            == f'\"<l>|<v> {self[tail_idx]}|<r>\"',\n",
    "            nodes,\n",
    "        )\n",
    "    )\n",
    "    assert len(tails) > 0\n",
    "    tail: pydot.Node = tails[0]\n",
    "    heads = list(\n",
    "        filter(\n",
    "            lambda node: node.get_attributes().get(\"label\")\n",
    "            == f'\"<l>|<v> {self[head_idx]}|<r>\"',\n",
    "            nodes,\n",
    "        )\n",
    "    )\n",
    "    assert len(heads) > 0\n",
    "    head: pydot.Node = heads[0]\n",
    "    gv.edge(tail_name=tail.get_name(), head_name=head.get_name(), color=color)\n",
    "    self.digraphs.append(gv)\n",
    "Heap.highlight_edge = highlight_edge\n",
    "del highlight_edge\n",
    "\n",
    "def to_gif(self, size=500):\n",
    "    digest = hashlib.sha256(str(self.ls).encode()).hexdigest()[:8]\n",
    "    assets_dir = f\"assets/wand/{self.classname()}/{digest}\"\n",
    "    gif = f\"{assets_dir}/graph.gif\"\n",
    "    with Image() as img:\n",
    "        img.loop = 1\n",
    "        try:\n",
    "            os.makedirs(assets_dir, exist_ok=False)\n",
    "            for i, digraph in enumerate(self.digraphs):\n",
    "                path = digraph.render(\n",
    "                    filename=f\"frame-{i}\",\n",
    "                    directory=assets_dir,\n",
    "                    format=\"png\",\n",
    "                    cleanup=True,\n",
    "                    overwrite_source=True,\n",
    "                )\n",
    "                frame = Image(filename=path, width=size, height=size)\n",
    "                frame.delay = 60\n",
    "                img.sequence.append(frame)\n",
    "            img.type = \"optimize\"\n",
    "            img.save(filename=gif)\n",
    "            last_state = self.digraphs[-1].render(\n",
    "                directory=assets_dir,\n",
    "                filename=\"last-state\",\n",
    "                format=\"svg\",\n",
    "                overwrite_source=True,\n",
    "            )\n",
    "            display_markdown(\"**Swapping process**\", raw=True)\n",
    "            display_markdown(f\"![]({gif})\", raw=True)\n",
    "            display_markdown(\"**Final result**\", raw=True)\n",
    "            display_markdown(f\"![]({last_state})\", raw=True)\n",
    "        except FileExistsError:\n",
    "            pass\n",
    "Heap.to_gif = to_gif\n",
    "del to_gif\n",
    "\n",
    "def log(self, *args):\n",
    "    cur = inspect.currentframe()\n",
    "    if cur:\n",
    "        print(f\"[{cur.f_code.co_name}] {args}\")\n",
    "Heap.log = log\n",
    "del log\n",
    "\n",
    "def maxheap(ls=[5,3,4,2,1,55,33,22,44,11]):\n",
    "     return MaxHeap(ls)\n",
    "    \n",
    "def minheap(ls=[5,3,4,2,1,55,33,22,44,11]):\n",
    "     return MinHeap(ls)\n",
    "\n",
    "def demo(h:Heap, fx, *args, i_size=800, **kwargs,):\n",
    "    before = str(h)\n",
    "    args = (h,) + args if args else h\n",
    "    fx(args) if not kwargs else (fx, args, kwargs)\n",
    "    after = str(h)\n",
    "    print(f'before: {before}')\n",
    "    print(f'after: {after}`')\n",
    "    h.to_gif()"
   ]
  },
  {
   "cell_type": "code",
   "execution_count": 4,
   "id": "6536b740-259d-4c51-88ae-f1f19ce7d323",
   "metadata": {},
   "outputs": [],
   "source": [
    "ls = list(reversed(range(0,10)))\n",
    "first_leaf = len(ls) // 2\n",
    "MaxHeap(ls.copy()).to_digraph(ls, highlights=range(first_leaf,len(ls)))"
   ]
  },
  {
   "cell_type": "markdown",
   "id": "a891b815-f710-474c-8ed0-bbf5b062bbbd",
   "metadata": {},
   "source": [
    "> *Interesting:* The index of the first leaf is always $\\lfloor A.length \\div 2 \\rfloor$ in a 0-indexed list... so it would be $\\lfloor A.length \\div 2 \\rfloor + 1$ in a 1-indexed list"
   ]
  },
  {
   "cell_type": "markdown",
   "id": "2a995c1d-d105-4fe1-a1c7-a2d6a94809e7",
   "metadata": {},
   "source": [
    "### Is a asc-sorted array always a min-heap?\n",
    "Yes!\n"
   ]
  },
  {
   "cell_type": "code",
   "execution_count": 5,
   "id": "33d4379e-c384-44e5-a76f-1a495a7f6956",
   "metadata": {},
   "outputs": [],
   "source": [
    "h = MinHeap(list(range(1, 30)))\n",
    "h.to_digraph()"
   ]
  },
  {
   "cell_type": "markdown",
   "id": "6aec4ef2-0870-45bb-a8d9-d79b6553e2b8",
   "metadata": {},
   "source": [
    "# Maintaining the heap-property (6.2)\n",
    "To maintain the heap property, we call `heapify`."
   ]
  },
  {
   "cell_type": "code",
   "execution_count": 6,
   "id": "8f0f8b20-2cb9-4df6-9a81-dfeea3790270",
   "metadata": {
    "editable": true,
    "slideshow": {
     "slide_type": ""
    },
    "tags": []
   },
   "outputs": [],
   "source": [
    "def heapify(self:Heap, i):\n",
    "    idx = self.heap_property_violation(i)\n",
    "    if idx:\n",
    "        self.swap(i, idx)\n",
    "        self.heapify(idx)\n",
    "Heap.heapify = heapify\n",
    "del heapify"
   ]
  },
  {
   "cell_type": "markdown",
   "id": "4351afc9-56d1-4238-bee3-4759b38e493a",
   "metadata": {},
   "source": [
    "## Bubble up\n",
    "- When a key is not in the right relation with its parent, swap it with its parent\n",
    "## Bubble down\n",
    "- When a key is not in the right relation with its children, swap it with one of its children\n",
    "    - min-heap: swap with smallest child\n",
    "    - max-heap: swap with biggest child\n",
    "\n",
    "Time complexity: $O(\\lg n)$"
   ]
  },
  {
   "cell_type": "markdown",
   "id": "e9edf7aa-135e-4ca3-ba17-57ed9697dc86",
   "metadata": {},
   "source": [
    "## Exercises\n",
    "### Illustrate `max_heapify` (6.2-1)\n",
    "We want to max-heapify this tree: `[27,17,3,16,13,10,1,5,7,12,4,8,9,0]` where 3 is out of place."
   ]
  },
  {
   "cell_type": "code",
   "execution_count": 7,
   "id": "14324663-2bb6-4641-8da5-6b7ef1c3fbf9",
   "metadata": {},
   "outputs": [],
   "source": [
    "ls = [27,17,3,16,13,10,1,5,7,12,4,8,9,0]\n",
    "h = MaxHeap(ls.copy())\n",
    "h.to_digraph(highlights=[2])"
   ]
  },
  {
   "cell_type": "code",
   "execution_count": 8,
   "id": "cee059d7-edaf-4c4c-a518-fd6e40c17654",
   "metadata": {},
   "outputs": [],
   "source": [
    "h.swap(2,5)\n",
    "h.to_digraph(highlights=[5])"
   ]
  },
  {
   "cell_type": "code",
   "execution_count": 9,
   "id": "7f296788-7906-4b6c-833c-16cd659da6e9",
   "metadata": {},
   "outputs": [],
   "source": [
    "h.swap(5,12)\n",
    "h.to_digraph(highlights=[12])"
   ]
  },
  {
   "cell_type": "markdown",
   "id": "9d5de20e-3bff-4e1c-b6d2-1a2d3c9fb572",
   "metadata": {},
   "source": [
    "### code for min-heapify (6.2-2)\n",
    "The run time should be the same as max-heapify"
   ]
  },
  {
   "cell_type": "code",
   "execution_count": 10,
   "id": "27c60f59-027d-4f5a-aaf4-152c52af823d",
   "metadata": {},
   "outputs": [],
   "source": [
    "def min_heapify(A, i):\n",
    "    l = left(i)\n",
    "    r = right(i)\n",
    "    smallest = i\n",
    "    '''we assume all child trees of A[i] are min-heaps and try to find the spot for A[i]'''\n",
    "    if l < len(A) and A[l] < A[i]:\n",
    "        smallest = l\n",
    "    if r < len(A) and A[r] < A[smallest]:\n",
    "        smallest = r\n",
    "    if smallest != i:\n",
    "        swap(A, i, smallest)\n",
    "        min_heapify(A, smallest)\n",
    "    "
   ]
  },
  {
   "cell_type": "markdown",
   "id": "9fe79528-06c2-4348-97ca-ba8311adea04",
   "metadata": {
    "editable": true,
    "slideshow": {
     "slide_type": ""
    },
    "tags": []
   },
   "source": [
    "### Effect of calling `max_heapify(A,i)` when `A[i]` is larger than its children (6.2-3)\n",
    "the largest encountered value is equal to `A[i]`, so no swaps take place\n",
    "\n",
    "### Effect of calling `max_heapify(A,i)` for $i > A.heapsize / 2$ (6.2-4)\n",
    "It would be like calling it on all leaves, which is useless, because they have no subtrees.\n",
    "\n",
    "### Iterative instead of recursive implementation of `max_heapify(A,i)` (6.2-5)"
   ]
  },
  {
   "cell_type": "raw",
   "id": "1bf2a585-89c0-40b3-a84f-2ce49e1d0157",
   "metadata": {
    "editable": true,
    "scrolled": true,
    "slideshow": {
     "slide_type": ""
    },
    "tags": []
   },
   "source": [
    "import math\n",
    "\n",
    "def is_leaf(A,i):\n",
    "    return i >= len(A)//2\n",
    "\n",
    "def max_heapify_non_recursive(A,i):\n",
    "    largest = i\n",
    "    while not is_leaf(A, largest):\n",
    "        l = left(i)\n",
    "        r = right(i)\n",
    "        if l < len(A) and A[l] > A[i]:\n",
    "            largest = l\n",
    "        if l < len(A) and A[r] > A[largest]:\n",
    "            largest = r\n",
    "        if largest != i:\n",
    "            swap(A, i, largest)\n",
    "        else:\n",
    "            break\n",
    "\n",
    "a = [27,17,3,16,13,10,1,5,7,12,4,8,9,0]\n",
    "print(a)\n",
    "max_heapify_non_recursive(a, 2)\n",
    "print(a)"
   ]
  },
  {
   "cell_type": "markdown",
   "id": "81bad789-3182-4962-b7e2-759753aa0705",
   "metadata": {},
   "source": [
    "### Why is the worst case running time of `max_heapify` on a heap size $n$ is $\\Omega(\\lg{n})$\n",
    "\n",
    "$\\text{maxheapify}(A, 0) = \\Omega(\\lg{n})$\n",
    "- $\\text{maxheapify}$ is asymptotically lower-bounded by $\\lg{n}$\n",
    "- $\\exists{K}, \\exists{N} | \\forall n \\leq N:  f(n) \\geq K\\times g(n)$\n",
    "\n",
    "The maximum number of swaps would be swapping the root all the way down to the deepest leaf, which would take $\\lg(n)$ swaps. "
   ]
  },
  {
   "cell_type": "markdown",
   "id": "18b921ce-f6d7-4ad6-b777-108e64409d50",
   "metadata": {},
   "source": [
    "# Building a heap\n",
    "\"bottom up\", as in from the leaves to the root\n",
    "\n",
    "## Helper functions"
   ]
  },
  {
   "cell_type": "code",
   "execution_count": 11,
   "id": "cc3c1182-8719-4bd2-ad32-b1dc0b09f189",
   "metadata": {
    "editable": true,
    "slideshow": {
     "slide_type": ""
    },
    "tags": []
   },
   "outputs": [],
   "source": [
    "def all_parents(h:Heap):\n",
    "    return range(0, h.length//2)\n",
    "Heap.all_parents = all_parents\n",
    "del all_parents\n",
    "\n",
    "def all_leaves(h:Heap):\n",
    "    return range(h.length//2, h.length)\n",
    "Heap.all_leaves = all_leaves\n",
    "del all_leaves"
   ]
  },
  {
   "cell_type": "raw",
   "id": "2ebb92c7-a6e0-42db-8f80-d90f62a2137b",
   "metadata": {},
   "source": [
    "anim = Animation()\n",
    "\n",
    "heaps = []\n",
    "for i in range(5,8):\n",
    "    h = MinHeap(range(1,i))\n",
    "    heaps.insert(0, h)\n",
    "    anim.parse(h.to_digraph(highlights = h.all_parents(), label=f'parents'))\n",
    "    anim.parse(h.to_digraph(highlights = h.all_leaves(), label=f'leaves'))\n",
    "    h.animation = anim\n",
    "\n",
    "print(anim.graphs())\n",
    "heaps.pop().to_gif()"
   ]
  },
  {
   "cell_type": "code",
   "execution_count": 12,
   "id": "aeaba8dd-c3b6-4248-8158-8ed1566dc5ae",
   "metadata": {},
   "outputs": [],
   "source": [
    "h = MinHeap([1,2,3,4])\n",
    "h.to_digraph(highlights=h.all_parents(), label=\"parents\")"
   ]
  },
  {
   "cell_type": "code",
   "execution_count": 13,
   "id": "3d09c273",
   "metadata": {},
   "outputs": [],
   "source": [
    "h.to_digraph(highlights=h.all_leaves(), label=\"leaves\")"
   ]
  },
  {
   "cell_type": "code",
   "execution_count": 14,
   "id": "7285eca0-2df2-4550-912c-f200aee5a6f0",
   "metadata": {},
   "outputs": [],
   "source": [
    "A = MinHeap([1,2,3,4,5])\n",
    "A.to_digraph(highlights=h.all_parents(), label='parents')"
   ]
  },
  {
   "cell_type": "code",
   "execution_count": 15,
   "id": "c8185974-ae97-432d-a4ac-60276fb02621",
   "metadata": {
    "scrolled": true
   },
   "outputs": [],
   "source": [
    "A.to_digraph(highlights=A.all_leaves(), label='leaves')"
   ]
  },
  {
   "cell_type": "code",
   "execution_count": 16,
   "id": "650fa411",
   "metadata": {},
   "outputs": [],
   "source": [
    "A = MinHeap([1,2,3,4,5,6])\n",
    "i = A.all_parents()\n",
    "A.to_digraph(highlights=i, label='parents')"
   ]
  },
  {
   "cell_type": "code",
   "execution_count": 17,
   "id": "ff4b35e8",
   "metadata": {},
   "outputs": [],
   "source": [
    "i = A.all_leaves()\n",
    "A.to_digraph(A, highlights=i, label='leaves')"
   ]
  },
  {
   "cell_type": "markdown",
   "id": "ce48b10d-1c34-4785-b105-9552e5ab1362",
   "metadata": {},
   "source": [
    "## `def build_maxheap(A)`"
   ]
  },
  {
   "cell_type": "code",
   "execution_count": 18,
   "id": "a9b34f4f-b6f7-4a3f-a2c0-3c51627c90dd",
   "metadata": {
    "editable": true,
    "slideshow": {
     "slide_type": ""
    },
    "tags": []
   },
   "outputs": [],
   "source": [
    "def build_heap(self):\n",
    "    '''\n",
    "    Transforms an unsorted self.ls into a heap\n",
    "    that abides by self.heap_prop\n",
    "    '''\n",
    "    self.heapsize = self.length\n",
    "    for i in reversed(range(0, self.length//2)):\n",
    "        self.heapify(i)\n",
    "    self.log(self)\n",
    "    return self\n",
    "Heap.build = build_heap\n",
    "del build_heap"
   ]
  },
  {
   "cell_type": "code",
   "execution_count": 19,
   "id": "e1efed45-2cc9-41cc-acfc-ad943a44c268",
   "metadata": {},
   "outputs": [
    {
     "name": "stdout",
     "output_type": "stream",
     "text": [
      "original: [27, 17, 3, 16, 13, 10, 1, 5, 7, 12, 4, 8, 9, 0]\n",
      "[log] (MaxHeap [27, 17, 10, 16, 13, 9, 1, 5, 7, 12, 4, 8, 3, 0], heapsize: 14,)\n",
      "maxheap : MaxHeap [27, 17, 10, 16, 13, 9, 1, 5, 7, 12, 4, 8, 3, 0], heapsize: 14\n"
     ]
    }
   ],
   "source": [
    "original = [27,17,3,16,13,10,1,5,7,12,4,8,9,0]\n",
    "print(f'original: {original}')\n",
    "h=MaxHeap(original)\n",
    "h.build()\n",
    "print(f'maxheap : {h}')\n",
    "h.to_gif()"
   ]
  },
  {
   "cell_type": "code",
   "execution_count": null,
   "id": "d2fd345f-35f1-4e65-a9ef-51202c34cdd3",
   "metadata": {},
   "outputs": [],
   "source": []
  },
  {
   "cell_type": "markdown",
   "id": "60cbe665-c96d-4bd0-bcfe-0d09ba4df1a2",
   "metadata": {
    "editable": true,
    "slideshow": {
     "slide_type": ""
    },
    "tags": []
   },
   "source": [
    "## Exercises\n",
    "\n",
    "### Illustrate build-max-heap (6.3-1)\n",
    "Given the input `[5,3,17,10,84,19,6,22,9]`...\n"
   ]
  },
  {
   "cell_type": "code",
   "execution_count": 20,
   "id": "9112ed3c-42d0-4e93-9c56-3241fe1cebab",
   "metadata": {
    "editable": true,
    "slideshow": {
     "slide_type": ""
    },
    "tags": []
   },
   "outputs": [
    {
     "name": "stdout",
     "output_type": "stream",
     "text": [
      "[log] (MaxHeap [19, 84, 6, 22, 3, 17, 5, 10, 9], heapsize: 9,)\n"
     ]
    }
   ],
   "source": [
    "A = MaxHeap([5,3,17,10,84,19,6,22,9])\n",
    "A.build()\n",
    "A.to_gif()"
   ]
  },
  {
   "cell_type": "code",
   "execution_count": 21,
   "id": "3a6cee70-a428-43ae-b498-c8966f0c5692",
   "metadata": {
    "editable": true,
    "slideshow": {
     "slide_type": ""
    },
    "tags": []
   },
   "outputs": [
    {
     "name": "stdout",
     "output_type": "stream",
     "text": [
      "MaxHeap [19, 84, 6, 22, 3, 17, 5, 10, 9], heapsize: 9\n",
      "<bound method to_gif of MaxHeap [19, 84, 6, 22, 3, 17, 5, 10, 9], heapsize: 9>\n"
     ]
    },
    {
     "data": {
      "text/markdown": [
       "![](None)"
      ]
     },
     "metadata": {},
     "output_type": "display_data"
    }
   ],
   "source": [
    "print(A)\n",
    "print(A.to_gif)\n",
    "# gif\n",
    "display_markdown(f\"![]({A.to_gif()})\", raw = True)"
   ]
  },
  {
   "cell_type": "code",
   "execution_count": 22,
   "id": "66ccbf37-1bdf-46fd-a40e-6ea0cd327dfe",
   "metadata": {
    "editable": true,
    "slideshow": {
     "slide_type": ""
    },
    "tags": []
   },
   "outputs": [],
   "source": [
    "A = MaxHeap([5,3,17,10,84,19,6,22,9])\n",
    "i = len(A.ls)//2 - 1"
   ]
  },
  {
   "cell_type": "code",
   "execution_count": 23,
   "id": "5b7a7be4-f1b3-4bc1-be63-47d9cb27afc8",
   "metadata": {
    "editable": true,
    "slideshow": {
     "slide_type": ""
    },
    "tags": []
   },
   "outputs": [],
   "source": [
    "# run the cell above once... then you can run this one over and over to iterate\n",
    "A.heapify(i)\n",
    "i = len(A) // 2 -1 if i < 0 else i-1\n",
    "h.to_digraph(A, highlights=[i]) if i > -1 -1 else None"
   ]
  },
  {
   "cell_type": "markdown",
   "id": "7184d710-3b71-4d53-b9d2-226bba3c0107",
   "metadata": {
    "editable": true,
    "slideshow": {
     "slide_type": ""
    },
    "tags": []
   },
   "source": [
    "### Why decrement the loop index from the midpoint? (6.3-2)\n",
    "because leafs are trivial max-heaps, and will be ordered as the first half of the array is handled"
   ]
  },
  {
   "cell_type": "markdown",
   "id": "720d304c-3ae3-4c8b-aa21-7ee8ccdcd7d9",
   "metadata": {},
   "source": [
    "# The heapsort algorithm"
   ]
  },
  {
   "cell_type": "code",
   "execution_count": 24,
   "id": "92eb399d-cc07-417f-8240-55be595bb527",
   "metadata": {},
   "outputs": [],
   "source": [
    "def heapsort(self:Heap) -> Heap:\n",
    "    '''\n",
    "    Takes self.heapsize from self.length to 1, while reordering self.ls\n",
    "    MaxHeap will give an ascending total order.\n",
    "    MinHeap will give a descending total order.\n",
    "    '''\n",
    "\n",
    "    self.build()\n",
    "    for i in reversed(range(1, self.length)):\n",
    "        self.swap(0, i)\n",
    "        self.heapsize -= 1\n",
    "        self.heapify(0)\n",
    "    self.digraphs.append(self.untree_animation())\n",
    "    self.log(self)\n",
    "    return self\n",
    "MaxHeap.sort = heapsort\n",
    "del heapsort"
   ]
  },
  {
   "cell_type": "code",
   "execution_count": 25,
   "id": "7e19acac-75ec-486a-843a-ed25ae870da5",
   "metadata": {},
   "outputs": [
    {
     "name": "stdout",
     "output_type": "stream",
     "text": [
      "ls: [5, 3, 17, 10, 84, 19, 6, 22, 9]\n",
      "[log] (MaxHeap [19, 84, 6, 22, 3, 17, 5, 10, 9], heapsize: 9,)\n",
      "[log] (MaxHeap [3, 9, 10, 5, 17, 6, 22, 84, 19], heapsize: 1,)\n"
     ]
    }
   ],
   "source": [
    "ls = [5,3,17,10,84,19,6,22,9]\n",
    "print(f'ls: {ls}') \n",
    "A = MaxHeap(ls)\n",
    "A.sort()\n",
    "A.to_gif()"
   ]
  },
  {
   "cell_type": "code",
   "execution_count": 26,
   "id": "20b242a4-ff0f-4ac4-98d0-e81cab12a00c",
   "metadata": {},
   "outputs": [
    {
     "name": "stdout",
     "output_type": "stream",
     "text": [
      "MaxHeap [3, 9, 10, 5, 17, 6, 22, 84, 19], heapsize: 1\n"
     ]
    },
    {
     "data": {
      "text/markdown": [
       "![](None)"
      ]
     },
     "metadata": {},
     "output_type": "display_data"
    }
   ],
   "source": [
    "print(A)\n",
    "display_markdown(f\"![]({A.to_gif()})\", raw = True)"
   ]
  },
  {
   "cell_type": "markdown",
   "id": "00a2e48e-f1cd-49a1-b6a6-30325f5e5584",
   "metadata": {},
   "source": [
    "## Exercises\n",
    "### Illustrate heapsort (6.4-1)\n"
   ]
  },
  {
   "cell_type": "code",
   "execution_count": 27,
   "id": "da2e4a0a-cc1a-446f-bf62-0dda9784fe84",
   "metadata": {},
   "outputs": [
    {
     "name": "stdout",
     "output_type": "stream",
     "text": [
      "MaxHeap [5, 13, 2, 25, 7, 17, 20, 8, 4], heapsize: 1\n",
      "[log] (MaxHeap [20, 25, 17, 13, 7, 5, 2, 8, 4], heapsize: 9,)\n",
      "[log] (MaxHeap [2, 7, 8, 13, 4, 5, 25, 17, 20], heapsize: 1,)\n"
     ]
    },
    {
     "data": {
      "text/markdown": [
       "![](None)"
      ]
     },
     "metadata": {},
     "output_type": "display_data"
    }
   ],
   "source": [
    "A = MaxHeap([5,13,2,25,7,17,20,8,4])\n",
    "print(A)\n",
    "A.sort()\n",
    "display_markdown(f\"![]({A.to_gif()})\", raw = True)"
   ]
  },
  {
   "cell_type": "markdown",
   "id": "bdc08d1e-6d2d-47a5-875a-5c961b7c3d19",
   "metadata": {},
   "source": [
    "### Argue the correctness of HeapSort (6.4-2)\n",
    "\n",
    "```pseudo\n",
    "1  HeapSort(A)\n",
    "2      BuildMaxHeap(A)\n",
    "3      for i = A.length downto 2\n",
    "4          exchange A[1] with A[i]\n",
    "5          A.heap-size = A.heap-size - 1\n",
    "6          MaxHeapify(A, 1)\n",
    "```\n",
    "\n",
    "> $\\text{Loop Invariant}:$ At the start of each iteration of the **for** loop of lines 2-5,\n",
    ">  the subarray $A[1..i]$ is a max-heap containing the $i$ smallest elements of $A[1..n]$,\n",
    ">  and the subarray $A[n+1..n]$ contains the $n-i$ largest elements of  $A[i+1..n]$, sorted."
   ]
  },
  {
   "cell_type": "markdown",
   "id": "b480c2d1-35d6-42b6-94e3-53b190d1e2e9",
   "metadata": {},
   "source": [
    "$\\text{Initialization:}$ Before the first iteration, we know that the entirety of $A$ abides by the Loop Invariant because we have proven elsewhere that `BuildMaxHeap` yields a max heap.\n",
    "\n",
    "$\\text{Maintenance:}$ As the for loop iteratively decrements $i$, MaxHeapify is the last function to touch A. This guarantees the Loop Invariant because every child of a max-heap is a max-heap, and callign MaxHeapify has been proven to yeild a maxheap. The size of the resultant maxheap decreases by 1 with every iteration. \n",
    "\n",
    "$\\text{Termination:}$ At the end of the for loop, all elements will have beeN removed from the max heap, and tehy are all max heaps unto them self"
   ]
  },
  {
   "cell_type": "markdown",
   "id": "7e0f8877-c17c-45ea-8ee0-815a8177c3ef",
   "metadata": {},
   "source": [
    "### Time complexity of heapsort (6.4-3)\n",
    "\n",
    "Regardless of whether A arrives sorted ascendingly or descendingly, the time complexity is $\\Theta(n \\lg n)$"
   ]
  },
  {
   "cell_type": "markdown",
   "id": "97394e7e-4f3f-476c-875f-a0a67306ff94",
   "metadata": {},
   "source": [
    "# Updating a heap\n"
   ]
  },
  {
   "cell_type": "code",
   "execution_count": 28,
   "id": "5431ea9b-e1cc-44e5-814f-ea3696137871",
   "metadata": {},
   "outputs": [],
   "source": [
    "# Bubble up\n",
    "\n",
    "\n",
    "def increase_key(self:Heap, i, key):\n",
    "    self.log(self)\n",
    "    assert not key < self[i], 'new key is smaller than current key'\n",
    "    self[i] = key\n",
    "    while i > 0 and self.heap_property_violation(self.parent(i)):\n",
    "        self.swap(i, self.parent(i))\n",
    "        i = self.parent(i)\n",
    "    self.retree_animation()\n",
    "Heap.increase_key = increase_key\n",
    "del increase_key\n",
    "\n",
    "\n",
    "def maximum(self:MaxHeap):\n",
    "    return self[0]\n",
    "MaxHeap.maximum = maximum\n",
    "del maximum\n",
    "\n",
    "def extract_max(self:MaxHeap):\n",
    "    self.log(self)\n",
    "    assert self.heapsize > 0, 'heap underflow'\n",
    "    max = self.maximum()\n",
    "    last = self.heapsize - 1\n",
    "    self[0] = self[last]\n",
    "    self.heapsize -= 1\n",
    "    self.heapify(0)\n",
    "    self.retree_animation()\n",
    "    return max\n",
    "MaxHeap.extract_max = extract_max\n",
    "del extract_max\n",
    "\n",
    "def insert_max(self:MaxHeap, key):\n",
    "    self.log(self)\n",
    "    self.length += 1\n",
    "    self.heapsize += 1\n",
    "    self.ls.append(-float('inf'))\n",
    "    self.increase_key(self.heapsize-1, key)\n",
    "    self.retree_animation()\n",
    "MaxHeap.insert = insert_max\n",
    "del insert_max\n",
    "\n",
    "\n",
    "\n",
    "def minimum(self:MinHeap):\n",
    "    return self[0]\n",
    "MinHeap.minimum = minimum\n",
    "del minimum\n",
    "\n",
    "def extract_min(self:MinHeap):\n",
    "    self.log(self)\n",
    "    assert self.heapsize > 0, 'heap underflow'\n",
    "    max = self.minimum()\n",
    "    last = self.heapsize - 1\n",
    "    self[0] = self[last]\n",
    "    self.heapsize -= 1\n",
    "    self.heapify(0)\n",
    "    self.retree_animation()\n",
    "    return min\n",
    "MinHeap.extract_min = extract_min\n",
    "del extract_min\n",
    "\n",
    "def insert_min(self:MinHeap, key):\n",
    "    self.log(self)\n",
    "    self.length += 1\n",
    "    self.heapsize += 1\n",
    "    self.ls.append(float('inf'))\n",
    "    self.increase_key(self[self.heapsize-1], key)\n",
    "MinHeap.insert=insert_min\n",
    "del insert_min"
   ]
  },
  {
   "cell_type": "code",
   "execution_count": 29,
   "id": "6f47a4c8-caa9-4a57-b2fa-4c8d93053f52",
   "metadata": {},
   "outputs": [
    {
     "name": "stdout",
     "output_type": "stream",
     "text": [
      "[log] (MaxHeap [5, 4, 2, 3, 1, 0], heapsize: 6,)\n"
     ]
    },
    {
     "data": {
      "image/svg+xml": [
       "<?xml version=\"1.0\" encoding=\"UTF-8\" standalone=\"no\"?>\n",
       "<!DOCTYPE svg PUBLIC \"-//W3C//DTD SVG 1.1//EN\"\n",
       " \"http://www.w3.org/Graphics/SVG/1.1/DTD/svg11.dtd\">\n",
       "<!-- Generated by graphviz version 14.0.0 (20250921.2048)\n",
       " -->\n",
       "<!-- Pages: 1 -->\n",
       "<svg width=\"230pt\" height=\"191pt\"\n",
       " viewBox=\"0.00 0.00 230.00 191.00\" xmlns=\"http://www.w3.org/2000/svg\" xmlns:xlink=\"http://www.w3.org/1999/xlink\">\n",
       "<g id=\"graph0\" class=\"graph\" transform=\"scale(1 1) rotate(0) translate(4 187)\">\n",
       "<polygon fill=\"white\" stroke=\"none\" points=\"-4,4 -4,-187 226.25,-187 226.25,4 -4,4\"/>\n",
       "<!-- 4497298208 -->\n",
       "<g id=\"node1\" class=\"node\">\n",
       "<title>4497298208</title>\n",
       "<path fill=\"lightgray\" stroke=\"lightgray\" d=\"M121,-146.5C121,-146.5 159.25,-146.5 159.25,-146.5 165.25,-146.5 171.25,-152.5 171.25,-158.5 171.25,-158.5 171.25,-170.5 171.25,-170.5 171.25,-176.5 165.25,-182.5 159.25,-182.5 159.25,-182.5 121,-182.5 121,-182.5 115,-182.5 109,-176.5 109,-170.5 109,-170.5 109,-158.5 109,-158.5 109,-152.5 115,-146.5 121,-146.5\"/>\n",
       "<text xml:space=\"preserve\" text-anchor=\"middle\" x=\"118.88\" y=\"-159.45\" font-family=\"Times,serif\" font-size=\"14.00\"> </text>\n",
       "<polyline fill=\"none\" stroke=\"lightgray\" points=\"128.75,-146.5 128.75,-182.5\"/>\n",
       "<text xml:space=\"preserve\" text-anchor=\"middle\" x=\"140.12\" y=\"-159.45\" font-family=\"Times,serif\" font-size=\"14.00\">5</text>\n",
       "<polyline fill=\"none\" stroke=\"lightgray\" points=\"151.5,-146.5 151.5,-182.5\"/>\n",
       "<text xml:space=\"preserve\" text-anchor=\"middle\" x=\"161.38\" y=\"-159.45\" font-family=\"Times,serif\" font-size=\"14.00\"> </text>\n",
       "</g>\n",
       "<!-- 4497296528 -->\n",
       "<g id=\"node2\" class=\"node\">\n",
       "<title>4497296528</title>\n",
       "<path fill=\"lightgray\" stroke=\"lightgray\" d=\"M71,-73.5C71,-73.5 109.25,-73.5 109.25,-73.5 115.25,-73.5 121.25,-79.5 121.25,-85.5 121.25,-85.5 121.25,-97.5 121.25,-97.5 121.25,-103.5 115.25,-109.5 109.25,-109.5 109.25,-109.5 71,-109.5 71,-109.5 65,-109.5 59,-103.5 59,-97.5 59,-97.5 59,-85.5 59,-85.5 59,-79.5 65,-73.5 71,-73.5\"/>\n",
       "<text xml:space=\"preserve\" text-anchor=\"middle\" x=\"68.88\" y=\"-86.45\" font-family=\"Times,serif\" font-size=\"14.00\"> </text>\n",
       "<polyline fill=\"none\" stroke=\"lightgray\" points=\"78.75,-73.5 78.75,-109.5\"/>\n",
       "<text xml:space=\"preserve\" text-anchor=\"middle\" x=\"90.12\" y=\"-86.45\" font-family=\"Times,serif\" font-size=\"14.00\">4</text>\n",
       "<polyline fill=\"none\" stroke=\"lightgray\" points=\"101.5,-73.5 101.5,-109.5\"/>\n",
       "<text xml:space=\"preserve\" text-anchor=\"middle\" x=\"111.38\" y=\"-86.45\" font-family=\"Times,serif\" font-size=\"14.00\"> </text>\n",
       "</g>\n",
       "<!-- 4497298208&#45;&gt;4497296528 -->\n",
       "<g id=\"edge1\" class=\"edge\">\n",
       "<title>4497298208:l&#45;&gt;4497296528:v</title>\n",
       "<path fill=\"none\" stroke=\"black\" d=\"M118.88,-146C118.88,-130.16 101.68,-129.54 93.88,-120.59\"/>\n",
       "<polygon fill=\"black\" stroke=\"black\" points=\"97.27,-119.68 90.63,-111.43 90.68,-122.02 97.27,-119.68\"/>\n",
       "</g>\n",
       "<!-- 4497307952 -->\n",
       "<g id=\"node3\" class=\"node\">\n",
       "<title>4497307952</title>\n",
       "<path fill=\"lightgray\" stroke=\"lightgray\" d=\"M172,-73.5C172,-73.5 210.25,-73.5 210.25,-73.5 216.25,-73.5 222.25,-79.5 222.25,-85.5 222.25,-85.5 222.25,-97.5 222.25,-97.5 222.25,-103.5 216.25,-109.5 210.25,-109.5 210.25,-109.5 172,-109.5 172,-109.5 166,-109.5 160,-103.5 160,-97.5 160,-97.5 160,-85.5 160,-85.5 160,-79.5 166,-73.5 172,-73.5\"/>\n",
       "<text xml:space=\"preserve\" text-anchor=\"middle\" x=\"169.88\" y=\"-86.45\" font-family=\"Times,serif\" font-size=\"14.00\"> </text>\n",
       "<polyline fill=\"none\" stroke=\"lightgray\" points=\"179.75,-73.5 179.75,-109.5\"/>\n",
       "<text xml:space=\"preserve\" text-anchor=\"middle\" x=\"191.12\" y=\"-86.45\" font-family=\"Times,serif\" font-size=\"14.00\">2</text>\n",
       "<polyline fill=\"none\" stroke=\"lightgray\" points=\"202.5,-73.5 202.5,-109.5\"/>\n",
       "<text xml:space=\"preserve\" text-anchor=\"middle\" x=\"212.38\" y=\"-86.45\" font-family=\"Times,serif\" font-size=\"14.00\"> </text>\n",
       "</g>\n",
       "<!-- 4497298208&#45;&gt;4497307952 -->\n",
       "<g id=\"edge2\" class=\"edge\">\n",
       "<title>4497298208:r&#45;&gt;4497307952:v</title>\n",
       "<path fill=\"none\" stroke=\"black\" d=\"M161.38,-146C161.38,-129.95 179.17,-129.61 187.24,-120.67\"/>\n",
       "<polygon fill=\"black\" stroke=\"black\" points=\"190.47,-122.02 190.61,-111.42 183.89,-119.62 190.47,-122.02\"/>\n",
       "</g>\n",
       "<!-- 4497305040 -->\n",
       "<g id=\"node4\" class=\"node\">\n",
       "<title>4497305040</title>\n",
       "<path fill=\"lightgray\" stroke=\"lightgray\" d=\"M12,-0.5C12,-0.5 50.25,-0.5 50.25,-0.5 56.25,-0.5 62.25,-6.5 62.25,-12.5 62.25,-12.5 62.25,-24.5 62.25,-24.5 62.25,-30.5 56.25,-36.5 50.25,-36.5 50.25,-36.5 12,-36.5 12,-36.5 6,-36.5 0,-30.5 0,-24.5 0,-24.5 0,-12.5 0,-12.5 0,-6.5 6,-0.5 12,-0.5\"/>\n",
       "<text xml:space=\"preserve\" text-anchor=\"middle\" x=\"9.88\" y=\"-13.45\" font-family=\"Times,serif\" font-size=\"14.00\"> </text>\n",
       "<polyline fill=\"none\" stroke=\"lightgray\" points=\"19.75,-0.5 19.75,-36.5\"/>\n",
       "<text xml:space=\"preserve\" text-anchor=\"middle\" x=\"31.12\" y=\"-13.45\" font-family=\"Times,serif\" font-size=\"14.00\">3</text>\n",
       "<polyline fill=\"none\" stroke=\"lightgray\" points=\"42.5,-0.5 42.5,-36.5\"/>\n",
       "<text xml:space=\"preserve\" text-anchor=\"middle\" x=\"52.38\" y=\"-13.45\" font-family=\"Times,serif\" font-size=\"14.00\"> </text>\n",
       "</g>\n",
       "<!-- 4497296528&#45;&gt;4497305040 -->\n",
       "<g id=\"edge3\" class=\"edge\">\n",
       "<title>4497296528:l&#45;&gt;4497305040:v</title>\n",
       "<path fill=\"none\" stroke=\"black\" d=\"M68.88,-73C68.88,-54.53 44.9,-57.36 35.16,-47.54\"/>\n",
       "<polygon fill=\"black\" stroke=\"black\" points=\"38.51,-46.5 31.67,-38.41 31.98,-49 38.51,-46.5\"/>\n",
       "</g>\n",
       "<!-- 4497302912 -->\n",
       "<g id=\"node5\" class=\"node\">\n",
       "<title>4497302912</title>\n",
       "<path fill=\"lightgray\" stroke=\"lightgray\" d=\"M92,-0.5C92,-0.5 130.25,-0.5 130.25,-0.5 136.25,-0.5 142.25,-6.5 142.25,-12.5 142.25,-12.5 142.25,-24.5 142.25,-24.5 142.25,-30.5 136.25,-36.5 130.25,-36.5 130.25,-36.5 92,-36.5 92,-36.5 86,-36.5 80,-30.5 80,-24.5 80,-24.5 80,-12.5 80,-12.5 80,-6.5 86,-0.5 92,-0.5\"/>\n",
       "<text xml:space=\"preserve\" text-anchor=\"middle\" x=\"89.88\" y=\"-13.45\" font-family=\"Times,serif\" font-size=\"14.00\"> </text>\n",
       "<polyline fill=\"none\" stroke=\"lightgray\" points=\"99.75,-0.5 99.75,-36.5\"/>\n",
       "<text xml:space=\"preserve\" text-anchor=\"middle\" x=\"111.12\" y=\"-13.45\" font-family=\"Times,serif\" font-size=\"14.00\">1</text>\n",
       "<polyline fill=\"none\" stroke=\"lightgray\" points=\"122.5,-0.5 122.5,-36.5\"/>\n",
       "<text xml:space=\"preserve\" text-anchor=\"middle\" x=\"132.38\" y=\"-13.45\" font-family=\"Times,serif\" font-size=\"14.00\"> </text>\n",
       "</g>\n",
       "<!-- 4497296528&#45;&gt;4497302912 -->\n",
       "<g id=\"edge4\" class=\"edge\">\n",
       "<title>4497296528:r&#45;&gt;4497302912:v</title>\n",
       "<path fill=\"none\" stroke=\"black\" d=\"M111.38,-73C111.38,-61.62 111.25,-56.32 111.18,-48.45\"/>\n",
       "<polygon fill=\"black\" stroke=\"black\" points=\"114.68,-48.5 111.13,-38.51 107.68,-48.53 114.68,-48.5\"/>\n",
       "</g>\n",
       "<!-- 4497301008 -->\n",
       "<g id=\"node6\" class=\"node\">\n",
       "<title>4497301008</title>\n",
       "<path fill=\"lightgray\" stroke=\"lightgray\" d=\"M172,-0.5C172,-0.5 210.25,-0.5 210.25,-0.5 216.25,-0.5 222.25,-6.5 222.25,-12.5 222.25,-12.5 222.25,-24.5 222.25,-24.5 222.25,-30.5 216.25,-36.5 210.25,-36.5 210.25,-36.5 172,-36.5 172,-36.5 166,-36.5 160,-30.5 160,-24.5 160,-24.5 160,-12.5 160,-12.5 160,-6.5 166,-0.5 172,-0.5\"/>\n",
       "<text xml:space=\"preserve\" text-anchor=\"middle\" x=\"169.88\" y=\"-13.45\" font-family=\"Times,serif\" font-size=\"14.00\"> </text>\n",
       "<polyline fill=\"none\" stroke=\"lightgray\" points=\"179.75,-0.5 179.75,-36.5\"/>\n",
       "<text xml:space=\"preserve\" text-anchor=\"middle\" x=\"191.12\" y=\"-13.45\" font-family=\"Times,serif\" font-size=\"14.00\">0</text>\n",
       "<polyline fill=\"none\" stroke=\"lightgray\" points=\"202.5,-0.5 202.5,-36.5\"/>\n",
       "<text xml:space=\"preserve\" text-anchor=\"middle\" x=\"212.38\" y=\"-13.45\" font-family=\"Times,serif\" font-size=\"14.00\"> </text>\n",
       "</g>\n",
       "<!-- 4497307952&#45;&gt;4497301008 -->\n",
       "<g id=\"edge5\" class=\"edge\">\n",
       "<title>4497307952:l&#45;&gt;4497301008:v</title>\n",
       "<path fill=\"none\" stroke=\"black\" d=\"M169.88,-73C169.88,-59.07 181.83,-56.23 187.8,-47.85\"/>\n",
       "<polygon fill=\"black\" stroke=\"black\" points=\"191.1,-49.03 190.68,-38.45 184.41,-46.99 191.1,-49.03\"/>\n",
       "</g>\n",
       "</g>\n",
       "</svg>\n"
      ],
      "text/plain": [
       "<graphviz.graphs.Digraph at 0x10c113110>"
      ]
     },
     "execution_count": 29,
     "metadata": {},
     "output_type": "execute_result"
    }
   ],
   "source": [
    "h = maxheap([0,1,2,3,4,5])\n",
    "h.build()\n",
    "h.digraphs[-1]"
   ]
  },
  {
   "cell_type": "code",
   "execution_count": 30,
   "id": "0ec06bed-4158-4180-9b4c-112646e9f463",
   "metadata": {},
   "outputs": [
    {
     "name": "stdout",
     "output_type": "stream",
     "text": [
      "[log] (MaxHeap [5, 4, 2, 3, 1, 0], heapsize: 6,)\n",
      "[log] (MaxHeap [5, 4, 2, 3, 1, 0, -inf], heapsize: 7,)\n"
     ]
    },
    {
     "data": {
      "image/svg+xml": [
       "<?xml version=\"1.0\" encoding=\"UTF-8\" standalone=\"no\"?>\n",
       "<!DOCTYPE svg PUBLIC \"-//W3C//DTD SVG 1.1//EN\"\n",
       " \"http://www.w3.org/Graphics/SVG/1.1/DTD/svg11.dtd\">\n",
       "<!-- Generated by graphviz version 14.0.0 (20250921.2048)\n",
       " -->\n",
       "<!-- Pages: 1 -->\n",
       "<svg width=\"310pt\" height=\"191pt\"\n",
       " viewBox=\"0.00 0.00 310.00 191.00\" xmlns=\"http://www.w3.org/2000/svg\" xmlns:xlink=\"http://www.w3.org/1999/xlink\">\n",
       "<g id=\"graph0\" class=\"graph\" transform=\"scale(1 1) rotate(0) translate(4 187)\">\n",
       "<polygon fill=\"white\" stroke=\"none\" points=\"-4,4 -4,-187 306.25,-187 306.25,4 -4,4\"/>\n",
       "<!-- 4497296640 -->\n",
       "<g id=\"node1\" class=\"node\">\n",
       "<title>4497296640</title>\n",
       "<path fill=\"lightgray\" stroke=\"lightgray\" d=\"M128.62,-146.5C128.62,-146.5 173.62,-146.5 173.62,-146.5 179.62,-146.5 185.62,-152.5 185.62,-158.5 185.62,-158.5 185.62,-170.5 185.62,-170.5 185.62,-176.5 179.62,-182.5 173.62,-182.5 173.62,-182.5 128.62,-182.5 128.62,-182.5 122.62,-182.5 116.62,-176.5 116.62,-170.5 116.62,-170.5 116.62,-158.5 116.62,-158.5 116.62,-152.5 122.62,-146.5 128.62,-146.5\"/>\n",
       "<text xml:space=\"preserve\" text-anchor=\"middle\" x=\"126.5\" y=\"-159.45\" font-family=\"Times,serif\" font-size=\"14.00\"> </text>\n",
       "<polyline fill=\"none\" stroke=\"lightgray\" points=\"136.38,-146.5 136.38,-182.5\"/>\n",
       "<text xml:space=\"preserve\" text-anchor=\"middle\" x=\"151.12\" y=\"-159.45\" font-family=\"Times,serif\" font-size=\"14.00\">55</text>\n",
       "<polyline fill=\"none\" stroke=\"lightgray\" points=\"165.88,-146.5 165.88,-182.5\"/>\n",
       "<text xml:space=\"preserve\" text-anchor=\"middle\" x=\"175.75\" y=\"-159.45\" font-family=\"Times,serif\" font-size=\"14.00\"> </text>\n",
       "</g>\n",
       "<!-- 4497306384 -->\n",
       "<g id=\"node2\" class=\"node\">\n",
       "<title>4497306384</title>\n",
       "<path fill=\"lightgray\" stroke=\"lightgray\" d=\"M71,-73.5C71,-73.5 109.25,-73.5 109.25,-73.5 115.25,-73.5 121.25,-79.5 121.25,-85.5 121.25,-85.5 121.25,-97.5 121.25,-97.5 121.25,-103.5 115.25,-109.5 109.25,-109.5 109.25,-109.5 71,-109.5 71,-109.5 65,-109.5 59,-103.5 59,-97.5 59,-97.5 59,-85.5 59,-85.5 59,-79.5 65,-73.5 71,-73.5\"/>\n",
       "<text xml:space=\"preserve\" text-anchor=\"middle\" x=\"68.88\" y=\"-86.45\" font-family=\"Times,serif\" font-size=\"14.00\"> </text>\n",
       "<polyline fill=\"none\" stroke=\"lightgray\" points=\"78.75,-73.5 78.75,-109.5\"/>\n",
       "<text xml:space=\"preserve\" text-anchor=\"middle\" x=\"90.12\" y=\"-86.45\" font-family=\"Times,serif\" font-size=\"14.00\">4</text>\n",
       "<polyline fill=\"none\" stroke=\"lightgray\" points=\"101.5,-73.5 101.5,-109.5\"/>\n",
       "<text xml:space=\"preserve\" text-anchor=\"middle\" x=\"111.38\" y=\"-86.45\" font-family=\"Times,serif\" font-size=\"14.00\"> </text>\n",
       "</g>\n",
       "<!-- 4497296640&#45;&gt;4497306384 -->\n",
       "<g id=\"edge1\" class=\"edge\">\n",
       "<title>4497296640:l&#45;&gt;4497306384:v</title>\n",
       "<path fill=\"none\" stroke=\"black\" d=\"M126.5,-146C126.5,-128.05 103.85,-130.18 94.3,-120.7\"/>\n",
       "<polygon fill=\"black\" stroke=\"black\" points=\"97.57,-119.45 90.68,-111.41 91.05,-122 97.57,-119.45\"/>\n",
       "</g>\n",
       "<!-- 4497304704 -->\n",
       "<g id=\"node3\" class=\"node\">\n",
       "<title>4497304704</title>\n",
       "<path fill=\"lightgray\" stroke=\"lightgray\" d=\"M193,-73.5C193,-73.5 231.25,-73.5 231.25,-73.5 237.25,-73.5 243.25,-79.5 243.25,-85.5 243.25,-85.5 243.25,-97.5 243.25,-97.5 243.25,-103.5 237.25,-109.5 231.25,-109.5 231.25,-109.5 193,-109.5 193,-109.5 187,-109.5 181,-103.5 181,-97.5 181,-97.5 181,-85.5 181,-85.5 181,-79.5 187,-73.5 193,-73.5\"/>\n",
       "<text xml:space=\"preserve\" text-anchor=\"middle\" x=\"190.88\" y=\"-86.45\" font-family=\"Times,serif\" font-size=\"14.00\"> </text>\n",
       "<polyline fill=\"none\" stroke=\"lightgray\" points=\"200.75,-73.5 200.75,-109.5\"/>\n",
       "<text xml:space=\"preserve\" text-anchor=\"middle\" x=\"212.12\" y=\"-86.45\" font-family=\"Times,serif\" font-size=\"14.00\">5</text>\n",
       "<polyline fill=\"none\" stroke=\"lightgray\" points=\"223.5,-73.5 223.5,-109.5\"/>\n",
       "<text xml:space=\"preserve\" text-anchor=\"middle\" x=\"233.38\" y=\"-86.45\" font-family=\"Times,serif\" font-size=\"14.00\"> </text>\n",
       "</g>\n",
       "<!-- 4497296640&#45;&gt;4497304704 -->\n",
       "<g id=\"edge2\" class=\"edge\">\n",
       "<title>4497296640:r&#45;&gt;4497304704:v</title>\n",
       "<path fill=\"none\" stroke=\"black\" d=\"M175.75,-146C175.75,-128.05 198.4,-130.18 207.95,-120.7\"/>\n",
       "<polygon fill=\"black\" stroke=\"black\" points=\"211.2,-122 211.57,-111.41 204.68,-119.45 211.2,-122\"/>\n",
       "</g>\n",
       "<!-- 4497308176 -->\n",
       "<g id=\"node4\" class=\"node\">\n",
       "<title>4497308176</title>\n",
       "<path fill=\"lightgray\" stroke=\"lightgray\" d=\"M12,-0.5C12,-0.5 50.25,-0.5 50.25,-0.5 56.25,-0.5 62.25,-6.5 62.25,-12.5 62.25,-12.5 62.25,-24.5 62.25,-24.5 62.25,-30.5 56.25,-36.5 50.25,-36.5 50.25,-36.5 12,-36.5 12,-36.5 6,-36.5 0,-30.5 0,-24.5 0,-24.5 0,-12.5 0,-12.5 0,-6.5 6,-0.5 12,-0.5\"/>\n",
       "<text xml:space=\"preserve\" text-anchor=\"middle\" x=\"9.88\" y=\"-13.45\" font-family=\"Times,serif\" font-size=\"14.00\"> </text>\n",
       "<polyline fill=\"none\" stroke=\"lightgray\" points=\"19.75,-0.5 19.75,-36.5\"/>\n",
       "<text xml:space=\"preserve\" text-anchor=\"middle\" x=\"31.12\" y=\"-13.45\" font-family=\"Times,serif\" font-size=\"14.00\">3</text>\n",
       "<polyline fill=\"none\" stroke=\"lightgray\" points=\"42.5,-0.5 42.5,-36.5\"/>\n",
       "<text xml:space=\"preserve\" text-anchor=\"middle\" x=\"52.38\" y=\"-13.45\" font-family=\"Times,serif\" font-size=\"14.00\"> </text>\n",
       "</g>\n",
       "<!-- 4497306384&#45;&gt;4497308176 -->\n",
       "<g id=\"edge3\" class=\"edge\">\n",
       "<title>4497306384:l&#45;&gt;4497308176:v</title>\n",
       "<path fill=\"none\" stroke=\"black\" d=\"M68.88,-73C68.88,-54.53 44.9,-57.36 35.16,-47.54\"/>\n",
       "<polygon fill=\"black\" stroke=\"black\" points=\"38.51,-46.5 31.67,-38.41 31.98,-49 38.51,-46.5\"/>\n",
       "</g>\n",
       "<!-- 4497299440 -->\n",
       "<g id=\"node5\" class=\"node\">\n",
       "<title>4497299440</title>\n",
       "<path fill=\"lightgray\" stroke=\"lightgray\" d=\"M92,-0.5C92,-0.5 130.25,-0.5 130.25,-0.5 136.25,-0.5 142.25,-6.5 142.25,-12.5 142.25,-12.5 142.25,-24.5 142.25,-24.5 142.25,-30.5 136.25,-36.5 130.25,-36.5 130.25,-36.5 92,-36.5 92,-36.5 86,-36.5 80,-30.5 80,-24.5 80,-24.5 80,-12.5 80,-12.5 80,-6.5 86,-0.5 92,-0.5\"/>\n",
       "<text xml:space=\"preserve\" text-anchor=\"middle\" x=\"89.88\" y=\"-13.45\" font-family=\"Times,serif\" font-size=\"14.00\"> </text>\n",
       "<polyline fill=\"none\" stroke=\"lightgray\" points=\"99.75,-0.5 99.75,-36.5\"/>\n",
       "<text xml:space=\"preserve\" text-anchor=\"middle\" x=\"111.12\" y=\"-13.45\" font-family=\"Times,serif\" font-size=\"14.00\">1</text>\n",
       "<polyline fill=\"none\" stroke=\"lightgray\" points=\"122.5,-0.5 122.5,-36.5\"/>\n",
       "<text xml:space=\"preserve\" text-anchor=\"middle\" x=\"132.38\" y=\"-13.45\" font-family=\"Times,serif\" font-size=\"14.00\"> </text>\n",
       "</g>\n",
       "<!-- 4497306384&#45;&gt;4497299440 -->\n",
       "<g id=\"edge4\" class=\"edge\">\n",
       "<title>4497306384:r&#45;&gt;4497299440:v</title>\n",
       "<path fill=\"none\" stroke=\"black\" d=\"M111.38,-73C111.38,-61.62 111.25,-56.32 111.18,-48.45\"/>\n",
       "<polygon fill=\"black\" stroke=\"black\" points=\"114.68,-48.5 111.13,-38.51 107.68,-48.53 114.68,-48.5\"/>\n",
       "</g>\n",
       "<!-- 4497298656 -->\n",
       "<g id=\"node6\" class=\"node\">\n",
       "<title>4497298656</title>\n",
       "<path fill=\"lightgray\" stroke=\"lightgray\" d=\"M172,-0.5C172,-0.5 210.25,-0.5 210.25,-0.5 216.25,-0.5 222.25,-6.5 222.25,-12.5 222.25,-12.5 222.25,-24.5 222.25,-24.5 222.25,-30.5 216.25,-36.5 210.25,-36.5 210.25,-36.5 172,-36.5 172,-36.5 166,-36.5 160,-30.5 160,-24.5 160,-24.5 160,-12.5 160,-12.5 160,-6.5 166,-0.5 172,-0.5\"/>\n",
       "<text xml:space=\"preserve\" text-anchor=\"middle\" x=\"169.88\" y=\"-13.45\" font-family=\"Times,serif\" font-size=\"14.00\"> </text>\n",
       "<polyline fill=\"none\" stroke=\"lightgray\" points=\"179.75,-0.5 179.75,-36.5\"/>\n",
       "<text xml:space=\"preserve\" text-anchor=\"middle\" x=\"191.12\" y=\"-13.45\" font-family=\"Times,serif\" font-size=\"14.00\">0</text>\n",
       "<polyline fill=\"none\" stroke=\"lightgray\" points=\"202.5,-0.5 202.5,-36.5\"/>\n",
       "<text xml:space=\"preserve\" text-anchor=\"middle\" x=\"212.38\" y=\"-13.45\" font-family=\"Times,serif\" font-size=\"14.00\"> </text>\n",
       "</g>\n",
       "<!-- 4497304704&#45;&gt;4497298656 -->\n",
       "<g id=\"edge5\" class=\"edge\">\n",
       "<title>4497304704:l&#45;&gt;4497298656:v</title>\n",
       "<path fill=\"none\" stroke=\"black\" d=\"M190.88,-73C190.88,-61.62 191,-56.32 191.07,-48.45\"/>\n",
       "<polygon fill=\"black\" stroke=\"black\" points=\"194.57,-48.53 191.12,-38.51 187.57,-48.5 194.57,-48.53\"/>\n",
       "</g>\n",
       "<!-- 4497302576 -->\n",
       "<g id=\"node7\" class=\"node\">\n",
       "<title>4497302576</title>\n",
       "<path fill=\"lightgray\" stroke=\"lightgray\" d=\"M252,-0.5C252,-0.5 290.25,-0.5 290.25,-0.5 296.25,-0.5 302.25,-6.5 302.25,-12.5 302.25,-12.5 302.25,-24.5 302.25,-24.5 302.25,-30.5 296.25,-36.5 290.25,-36.5 290.25,-36.5 252,-36.5 252,-36.5 246,-36.5 240,-30.5 240,-24.5 240,-24.5 240,-12.5 240,-12.5 240,-6.5 246,-0.5 252,-0.5\"/>\n",
       "<text xml:space=\"preserve\" text-anchor=\"middle\" x=\"249.88\" y=\"-13.45\" font-family=\"Times,serif\" font-size=\"14.00\"> </text>\n",
       "<polyline fill=\"none\" stroke=\"lightgray\" points=\"259.75,-0.5 259.75,-36.5\"/>\n",
       "<text xml:space=\"preserve\" text-anchor=\"middle\" x=\"271.12\" y=\"-13.45\" font-family=\"Times,serif\" font-size=\"14.00\">2</text>\n",
       "<polyline fill=\"none\" stroke=\"lightgray\" points=\"282.5,-0.5 282.5,-36.5\"/>\n",
       "<text xml:space=\"preserve\" text-anchor=\"middle\" x=\"292.38\" y=\"-13.45\" font-family=\"Times,serif\" font-size=\"14.00\"> </text>\n",
       "</g>\n",
       "<!-- 4497304704&#45;&gt;4497302576 -->\n",
       "<g id=\"edge6\" class=\"edge\">\n",
       "<title>4497304704:r&#45;&gt;4497302576:v</title>\n",
       "<path fill=\"none\" stroke=\"black\" d=\"M233.38,-73C233.38,-54.53 257.35,-57.36 267.09,-47.54\"/>\n",
       "<polygon fill=\"black\" stroke=\"black\" points=\"270.27,-49 270.58,-38.41 263.74,-46.5 270.27,-49\"/>\n",
       "</g>\n",
       "</g>\n",
       "</svg>\n"
      ],
      "text/plain": [
       "<graphviz.graphs.Digraph at 0x10c1137f0>"
      ]
     },
     "execution_count": 30,
     "metadata": {},
     "output_type": "execute_result"
    }
   ],
   "source": [
    "h = MaxHeap(h.ls)\n",
    "h.heapsize = len(h.ls)\n",
    "h.insert(55)\n",
    "h.digraphs[-1]"
   ]
  },
  {
   "cell_type": "code",
   "execution_count": 31,
   "id": "5cad7928-f138-47cc-8264-c2219b93021c",
   "metadata": {},
   "outputs": [
    {
     "name": "stdout",
     "output_type": "stream",
     "text": [
      "[log] (MaxHeap [55, 4, 5, 3, 1, 0, 2], heapsize: 7,)\n"
     ]
    },
    {
     "data": {
      "image/svg+xml": [
       "<?xml version=\"1.0\" encoding=\"UTF-8\" standalone=\"no\"?>\n",
       "<!DOCTYPE svg PUBLIC \"-//W3C//DTD SVG 1.1//EN\"\n",
       " \"http://www.w3.org/Graphics/SVG/1.1/DTD/svg11.dtd\">\n",
       "<!-- Generated by graphviz version 14.0.0 (20250921.2048)\n",
       " -->\n",
       "<!-- Pages: 1 -->\n",
       "<svg width=\"310pt\" height=\"191pt\"\n",
       " viewBox=\"0.00 0.00 310.00 191.00\" xmlns=\"http://www.w3.org/2000/svg\" xmlns:xlink=\"http://www.w3.org/1999/xlink\">\n",
       "<g id=\"graph0\" class=\"graph\" transform=\"scale(1 1) rotate(0) translate(4 187)\">\n",
       "<polygon fill=\"white\" stroke=\"none\" points=\"-4,4 -4,-187 306.25,-187 306.25,4 -4,4\"/>\n",
       "<!-- 4497296752 -->\n",
       "<g id=\"node1\" class=\"node\">\n",
       "<title>4497296752</title>\n",
       "<path fill=\"lightgray\" stroke=\"lightgray\" d=\"M132,-146.5C132,-146.5 170.25,-146.5 170.25,-146.5 176.25,-146.5 182.25,-152.5 182.25,-158.5 182.25,-158.5 182.25,-170.5 182.25,-170.5 182.25,-176.5 176.25,-182.5 170.25,-182.5 170.25,-182.5 132,-182.5 132,-182.5 126,-182.5 120,-176.5 120,-170.5 120,-170.5 120,-158.5 120,-158.5 120,-152.5 126,-146.5 132,-146.5\"/>\n",
       "<text xml:space=\"preserve\" text-anchor=\"middle\" x=\"129.88\" y=\"-159.45\" font-family=\"Times,serif\" font-size=\"14.00\"> </text>\n",
       "<polyline fill=\"none\" stroke=\"lightgray\" points=\"139.75,-146.5 139.75,-182.5\"/>\n",
       "<text xml:space=\"preserve\" text-anchor=\"middle\" x=\"151.12\" y=\"-159.45\" font-family=\"Times,serif\" font-size=\"14.00\">5</text>\n",
       "<polyline fill=\"none\" stroke=\"lightgray\" points=\"162.5,-146.5 162.5,-182.5\"/>\n",
       "<text xml:space=\"preserve\" text-anchor=\"middle\" x=\"172.38\" y=\"-159.45\" font-family=\"Times,serif\" font-size=\"14.00\"> </text>\n",
       "</g>\n",
       "<!-- 4497297200 -->\n",
       "<g id=\"node2\" class=\"node\">\n",
       "<title>4497297200</title>\n",
       "<path fill=\"lightgray\" stroke=\"lightgray\" d=\"M71,-73.5C71,-73.5 109.25,-73.5 109.25,-73.5 115.25,-73.5 121.25,-79.5 121.25,-85.5 121.25,-85.5 121.25,-97.5 121.25,-97.5 121.25,-103.5 115.25,-109.5 109.25,-109.5 109.25,-109.5 71,-109.5 71,-109.5 65,-109.5 59,-103.5 59,-97.5 59,-97.5 59,-85.5 59,-85.5 59,-79.5 65,-73.5 71,-73.5\"/>\n",
       "<text xml:space=\"preserve\" text-anchor=\"middle\" x=\"68.88\" y=\"-86.45\" font-family=\"Times,serif\" font-size=\"14.00\"> </text>\n",
       "<polyline fill=\"none\" stroke=\"lightgray\" points=\"78.75,-73.5 78.75,-109.5\"/>\n",
       "<text xml:space=\"preserve\" text-anchor=\"middle\" x=\"90.12\" y=\"-86.45\" font-family=\"Times,serif\" font-size=\"14.00\">4</text>\n",
       "<polyline fill=\"none\" stroke=\"lightgray\" points=\"101.5,-73.5 101.5,-109.5\"/>\n",
       "<text xml:space=\"preserve\" text-anchor=\"middle\" x=\"111.38\" y=\"-86.45\" font-family=\"Times,serif\" font-size=\"14.00\"> </text>\n",
       "</g>\n",
       "<!-- 4497296752&#45;&gt;4497297200 -->\n",
       "<g id=\"edge1\" class=\"edge\">\n",
       "<title>4497296752:l&#45;&gt;4497297200:v</title>\n",
       "<path fill=\"none\" stroke=\"black\" d=\"M129.88,-146C129.88,-126.82 104.14,-130.63 94.08,-120.43\"/>\n",
       "<polygon fill=\"black\" stroke=\"black\" points=\"97.48,-119.52 90.66,-111.42 90.94,-122.01 97.48,-119.52\"/>\n",
       "</g>\n",
       "<!-- 4497307504 -->\n",
       "<g id=\"node3\" class=\"node\">\n",
       "<title>4497307504</title>\n",
       "<path fill=\"lightgray\" stroke=\"lightgray\" d=\"M193,-73.5C193,-73.5 231.25,-73.5 231.25,-73.5 237.25,-73.5 243.25,-79.5 243.25,-85.5 243.25,-85.5 243.25,-97.5 243.25,-97.5 243.25,-103.5 237.25,-109.5 231.25,-109.5 231.25,-109.5 193,-109.5 193,-109.5 187,-109.5 181,-103.5 181,-97.5 181,-97.5 181,-85.5 181,-85.5 181,-79.5 187,-73.5 193,-73.5\"/>\n",
       "<text xml:space=\"preserve\" text-anchor=\"middle\" x=\"190.88\" y=\"-86.45\" font-family=\"Times,serif\" font-size=\"14.00\"> </text>\n",
       "<polyline fill=\"none\" stroke=\"lightgray\" points=\"200.75,-73.5 200.75,-109.5\"/>\n",
       "<text xml:space=\"preserve\" text-anchor=\"middle\" x=\"212.12\" y=\"-86.45\" font-family=\"Times,serif\" font-size=\"14.00\">2</text>\n",
       "<polyline fill=\"none\" stroke=\"lightgray\" points=\"223.5,-73.5 223.5,-109.5\"/>\n",
       "<text xml:space=\"preserve\" text-anchor=\"middle\" x=\"233.38\" y=\"-86.45\" font-family=\"Times,serif\" font-size=\"14.00\"> </text>\n",
       "</g>\n",
       "<!-- 4497296752&#45;&gt;4497307504 -->\n",
       "<g id=\"edge2\" class=\"edge\">\n",
       "<title>4497296752:r&#45;&gt;4497307504:v</title>\n",
       "<path fill=\"none\" stroke=\"black\" d=\"M172.38,-146C172.38,-126.82 198.11,-130.63 208.17,-120.43\"/>\n",
       "<polygon fill=\"black\" stroke=\"black\" points=\"211.31,-122.01 211.59,-111.42 204.77,-119.52 211.31,-122.01\"/>\n",
       "</g>\n",
       "<!-- 4497303360 -->\n",
       "<g id=\"node4\" class=\"node\">\n",
       "<title>4497303360</title>\n",
       "<path fill=\"lightgray\" stroke=\"lightgray\" d=\"M12,-0.5C12,-0.5 50.25,-0.5 50.25,-0.5 56.25,-0.5 62.25,-6.5 62.25,-12.5 62.25,-12.5 62.25,-24.5 62.25,-24.5 62.25,-30.5 56.25,-36.5 50.25,-36.5 50.25,-36.5 12,-36.5 12,-36.5 6,-36.5 0,-30.5 0,-24.5 0,-24.5 0,-12.5 0,-12.5 0,-6.5 6,-0.5 12,-0.5\"/>\n",
       "<text xml:space=\"preserve\" text-anchor=\"middle\" x=\"9.88\" y=\"-13.45\" font-family=\"Times,serif\" font-size=\"14.00\"> </text>\n",
       "<polyline fill=\"none\" stroke=\"lightgray\" points=\"19.75,-0.5 19.75,-36.5\"/>\n",
       "<text xml:space=\"preserve\" text-anchor=\"middle\" x=\"31.12\" y=\"-13.45\" font-family=\"Times,serif\" font-size=\"14.00\">3</text>\n",
       "<polyline fill=\"none\" stroke=\"lightgray\" points=\"42.5,-0.5 42.5,-36.5\"/>\n",
       "<text xml:space=\"preserve\" text-anchor=\"middle\" x=\"52.38\" y=\"-13.45\" font-family=\"Times,serif\" font-size=\"14.00\"> </text>\n",
       "</g>\n",
       "<!-- 4497297200&#45;&gt;4497303360 -->\n",
       "<g id=\"edge3\" class=\"edge\">\n",
       "<title>4497297200:l&#45;&gt;4497303360:v</title>\n",
       "<path fill=\"none\" stroke=\"black\" d=\"M68.88,-73C68.88,-54.53 44.9,-57.36 35.16,-47.54\"/>\n",
       "<polygon fill=\"black\" stroke=\"black\" points=\"38.51,-46.5 31.67,-38.41 31.98,-49 38.51,-46.5\"/>\n",
       "</g>\n",
       "<!-- 4497301792 -->\n",
       "<g id=\"node5\" class=\"node\">\n",
       "<title>4497301792</title>\n",
       "<path fill=\"lightgray\" stroke=\"lightgray\" d=\"M92,-0.5C92,-0.5 130.25,-0.5 130.25,-0.5 136.25,-0.5 142.25,-6.5 142.25,-12.5 142.25,-12.5 142.25,-24.5 142.25,-24.5 142.25,-30.5 136.25,-36.5 130.25,-36.5 130.25,-36.5 92,-36.5 92,-36.5 86,-36.5 80,-30.5 80,-24.5 80,-24.5 80,-12.5 80,-12.5 80,-6.5 86,-0.5 92,-0.5\"/>\n",
       "<text xml:space=\"preserve\" text-anchor=\"middle\" x=\"89.88\" y=\"-13.45\" font-family=\"Times,serif\" font-size=\"14.00\"> </text>\n",
       "<polyline fill=\"none\" stroke=\"lightgray\" points=\"99.75,-0.5 99.75,-36.5\"/>\n",
       "<text xml:space=\"preserve\" text-anchor=\"middle\" x=\"111.12\" y=\"-13.45\" font-family=\"Times,serif\" font-size=\"14.00\">1</text>\n",
       "<polyline fill=\"none\" stroke=\"lightgray\" points=\"122.5,-0.5 122.5,-36.5\"/>\n",
       "<text xml:space=\"preserve\" text-anchor=\"middle\" x=\"132.38\" y=\"-13.45\" font-family=\"Times,serif\" font-size=\"14.00\"> </text>\n",
       "</g>\n",
       "<!-- 4497297200&#45;&gt;4497301792 -->\n",
       "<g id=\"edge4\" class=\"edge\">\n",
       "<title>4497297200:r&#45;&gt;4497301792:v</title>\n",
       "<path fill=\"none\" stroke=\"black\" d=\"M111.38,-73C111.38,-61.62 111.25,-56.32 111.18,-48.45\"/>\n",
       "<polygon fill=\"black\" stroke=\"black\" points=\"114.68,-48.5 111.13,-38.51 107.68,-48.53 114.68,-48.5\"/>\n",
       "</g>\n",
       "<!-- 4499980480 -->\n",
       "<g id=\"node6\" class=\"node\">\n",
       "<title>4499980480</title>\n",
       "<path fill=\"lightgray\" stroke=\"lightgray\" d=\"M172,-0.5C172,-0.5 210.25,-0.5 210.25,-0.5 216.25,-0.5 222.25,-6.5 222.25,-12.5 222.25,-12.5 222.25,-24.5 222.25,-24.5 222.25,-30.5 216.25,-36.5 210.25,-36.5 210.25,-36.5 172,-36.5 172,-36.5 166,-36.5 160,-30.5 160,-24.5 160,-24.5 160,-12.5 160,-12.5 160,-6.5 166,-0.5 172,-0.5\"/>\n",
       "<text xml:space=\"preserve\" text-anchor=\"middle\" x=\"169.88\" y=\"-13.45\" font-family=\"Times,serif\" font-size=\"14.00\"> </text>\n",
       "<polyline fill=\"none\" stroke=\"lightgray\" points=\"179.75,-0.5 179.75,-36.5\"/>\n",
       "<text xml:space=\"preserve\" text-anchor=\"middle\" x=\"191.12\" y=\"-13.45\" font-family=\"Times,serif\" font-size=\"14.00\">0</text>\n",
       "<polyline fill=\"none\" stroke=\"lightgray\" points=\"202.5,-0.5 202.5,-36.5\"/>\n",
       "<text xml:space=\"preserve\" text-anchor=\"middle\" x=\"212.38\" y=\"-13.45\" font-family=\"Times,serif\" font-size=\"14.00\"> </text>\n",
       "</g>\n",
       "<!-- 4497307504&#45;&gt;4499980480 -->\n",
       "<g id=\"edge5\" class=\"edge\">\n",
       "<title>4497307504:l&#45;&gt;4499980480:v</title>\n",
       "<path fill=\"none\" stroke=\"black\" d=\"M190.88,-73C190.88,-61.62 191,-56.32 191.07,-48.45\"/>\n",
       "<polygon fill=\"black\" stroke=\"black\" points=\"194.57,-48.53 191.12,-38.51 187.57,-48.5 194.57,-48.53\"/>\n",
       "</g>\n",
       "<!-- 4499980368 -->\n",
       "<g id=\"node7\" class=\"node\">\n",
       "<title>4499980368</title>\n",
       "<path fill=\"lightgray\" stroke=\"lightgray\" d=\"M252,-0.5C252,-0.5 290.25,-0.5 290.25,-0.5 296.25,-0.5 302.25,-6.5 302.25,-12.5 302.25,-12.5 302.25,-24.5 302.25,-24.5 302.25,-30.5 296.25,-36.5 290.25,-36.5 290.25,-36.5 252,-36.5 252,-36.5 246,-36.5 240,-30.5 240,-24.5 240,-24.5 240,-12.5 240,-12.5 240,-6.5 246,-0.5 252,-0.5\"/>\n",
       "<text xml:space=\"preserve\" text-anchor=\"middle\" x=\"249.88\" y=\"-13.45\" font-family=\"Times,serif\" font-size=\"14.00\"> </text>\n",
       "<polyline fill=\"none\" stroke=\"lightgray\" points=\"259.75,-0.5 259.75,-36.5\"/>\n",
       "<text xml:space=\"preserve\" text-anchor=\"middle\" x=\"271.12\" y=\"-13.45\" font-family=\"Times,serif\" font-size=\"14.00\">2</text>\n",
       "<polyline fill=\"none\" stroke=\"lightgray\" points=\"282.5,-0.5 282.5,-36.5\"/>\n",
       "<text xml:space=\"preserve\" text-anchor=\"middle\" x=\"292.38\" y=\"-13.45\" font-family=\"Times,serif\" font-size=\"14.00\"> </text>\n",
       "</g>\n",
       "<!-- 4497307504&#45;&gt;4499980368 -->\n",
       "<g id=\"edge6\" class=\"edge\">\n",
       "<title>4497307504:r&#45;&gt;4499980368:v</title>\n",
       "<path fill=\"none\" stroke=\"black\" d=\"M233.38,-73C233.38,-54.53 257.35,-57.36 267.09,-47.54\"/>\n",
       "<polygon fill=\"black\" stroke=\"black\" points=\"270.27,-49 270.58,-38.41 263.74,-46.5 270.27,-49\"/>\n",
       "</g>\n",
       "</g>\n",
       "</svg>\n"
      ],
      "text/plain": [
       "<graphviz.graphs.Digraph at 0x10c113bb0>"
      ]
     },
     "execution_count": 31,
     "metadata": {},
     "output_type": "execute_result"
    }
   ],
   "source": [
    "h.extract_max()\n",
    "h.digraphs[-1]"
   ]
  }
 ],
 "metadata": {
  "kernelspec": {
   "display_name": "Python 3 (ipykernel)",
   "language": "python",
   "name": "python3"
  },
  "language_info": {
   "codemirror_mode": {
    "name": "ipython",
    "version": 3
   },
   "file_extension": ".py",
   "mimetype": "text/x-python",
   "name": "python",
   "nbconvert_exporter": "python",
   "pygments_lexer": "ipython3",
   "version": "3.14.0"
  }
 },
 "nbformat": 4,
 "nbformat_minor": 5
}
