{
 "cells": [
  {
   "cell_type": "code",
   "execution_count": null,
   "id": "5200262b-413d-48e7-8a80-36620d8d0915",
   "metadata": {},
   "outputs": [],
   "source": []
  },
  {
   "cell_type": "markdown",
   "id": "f48962e7-a416-4fd8-8104-0701f5eec189",
   "metadata": {},
   "source": [
    "# Math\n",
    "\n",
    "## converting log bases\n",
    "\n",
    "$$\\log_a{x} = \\frac{\\log_b{x}}{\\log_b{a}}$$\n",
    "Useful for scenarios where you have a combination of $\\lg n$ and $n^k$"
   ]
  }
 ],
 "metadata": {
  "kernelspec": {
   "display_name": "Python 3 (ipykernel)",
   "language": "python",
   "name": "python3"
  },
  "language_info": {
   "codemirror_mode": {
    "name": "ipython",
    "version": 3
   },
   "file_extension": ".py",
   "mimetype": "text/x-python",
   "name": "python",
   "nbconvert_exporter": "python",
   "pygments_lexer": "ipython3",
   "version": "3.13.5"
  }
 },
 "nbformat": 4,
 "nbformat_minor": 5
}
