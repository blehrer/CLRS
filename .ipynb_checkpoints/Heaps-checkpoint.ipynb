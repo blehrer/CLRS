{
 "cells": [
  {
   "cell_type": "markdown",
   "id": "7d15f6f5-da1d-428e-961d-69b05fa65121",
   "metadata": {},
   "source": [
    "# Implementation\n",
    "\n",
    "## Pythonic Nuances\n",
    "- `ABC` stands for *$A$bstract $B$ase $C$lass*. This is the way I learned how to implement inheritance-based polymorphism\n",
    "- `__getitem__` and `__setitem__` give you the conveniences of `self[index] = value` style syntax, matching the pseudocode in $CLRS$\n",
    "- `x // y` is equivalent to $\\lfloor x \\div y \\rfloor$ (aka. *floor division*)\n",
    "- Python is a zero-indexed language; as such, the first element of a list is the $0^{th}$, not the $1^{st}$. As such, to do the floor division required by `_left(i), _right(i), _parent(i)`, we must do some rejiggering.\n",
    "    - we must add 1 to i before we divide, so we can do our 1-indexed calculations on natural numbers ( ${\\mathbb{N}}$ )\n",
    "    - we must subtract 1 to convert back to our 0-indexed convention for indexing items of Python lists"
   ]
  },
  {
   "cell_type": "code",
   "execution_count": 1,
   "id": "acc24ff0-e77d-4dfc-8c51-c579c87fbe3e",
   "metadata": {},
   "outputs": [],
   "source": [
    "from IPython.display import display_markdown\n",
    "from abc import ABC, abstractmethod\n",
    "from gvanim import Animation, gif, render\n",
    "import enum\n",
    "import hashlib\n",
    "import inspect\n",
    "import os\n",
    "\n",
    "\n",
    "class Heap(ABC):\n",
    "    def __init__(self, ls):\n",
    "        self.ls = ls\n",
    "        self.heapsize = 0\n",
    "        self.length = len(ls)\n",
    "        self.animation = Animation()\n",
    "        self.retree_animation()\n",
    "\n",
    "    def __getitem__(self, i):\n",
    "        if not i < self.length:\n",
    "            return None\n",
    "        return self.ls[i]\n",
    "\n",
    "    def __setitem__(self, i, val):\n",
    "        self.ls[i] = val\n",
    "\n",
    "    def __repr__(self):\n",
    "        return f'{self.classname()}: {self.ls}, heapsize: {self.heapsize}'\n",
    "\n",
    "    @abstractmethod\n",
    "    def classname(self):\n",
    "        ...\n",
    "\n",
    "    @abstractmethod\n",
    "    def heap_prop(self, i, force=False) -> (bool, int | None):\n",
    "        '''\n",
    "        Describes the appropriate relationship\n",
    "        between parents and children in the heap.\n",
    "\n",
    "        :param int i: parent index, to which derived child-indices are compared\n",
    "        :param bool force: Describes whether to only look in the heap (False),\n",
    "            or whether to look in the entirety of self.ls\n",
    "        :return: a tuple `(ok, idx)`. `ok` describes whether the heap_property\n",
    "            is satisfied (True), or violated (False). `idx` describes the index\n",
    "            of the value that ought to be swapped for the value at self[i]\n",
    "        :rtype: (bool, int)\n",
    "        '''\n",
    "        ...\n",
    "\n",
    "    def heapify(self, i):\n",
    "        '''\n",
    "        Bubbles down values that do not abide\n",
    "        by the self.heap_prop, starting at index i\n",
    "\n",
    "        :param int i: parent index of the heap or subheap that will be walked.\n",
    "        :param bool force: Describes whether to only look in the heap (False),\n",
    "            or whether to look in the entirety of self.ls\n",
    "        '''\n",
    "\n",
    "        ok, idx = self.heap_prop(i)\n",
    "        if not ok:\n",
    "            self._swap(idx, i)\n",
    "            self.heapify(idx)\n",
    "\n",
    "    def build_heap(self):\n",
    "        '''\n",
    "        Transforms an unsorted self.ls into a heap\n",
    "        that abides by self.heap_prop\n",
    "        '''\n",
    "\n",
    "        if self.animation.steps():\n",
    "            self.animation = Animation()\n",
    "        self.heapsize = self.length\n",
    "        for i in reversed(range(0, self.length//2)):\n",
    "            self.heapify(i)\n",
    "        print(f'Op: {inspect.currentframe().f_code.co_name}, {self}')\n",
    "\n",
    "    def heapsort(self):\n",
    "        '''\n",
    "        Takes self.heapsize from self.length to 1, while reordering self.ls\n",
    "        MaxHeap will give an ascending total order.\n",
    "        MinHeap will give a descending total order.\n",
    "        '''\n",
    "\n",
    "        self.build_heap()\n",
    "        for i in reversed(range(1, self.length)):\n",
    "            self._swap(0, i)\n",
    "            self.heapsize -= 1\n",
    "            self.heapify(0)\n",
    "        self.untree_animation()\n",
    "        print(f'Op: {inspect.currentframe().f_code.co_name}, {self}')\n",
    "\n",
    "    def bubbleup(self, i, force=False):\n",
    "        '''\n",
    "        Recursively increases the height of a value in the heap, until its\n",
    "        relation to its parent no longer violates self.heap_prop\n",
    "\n",
    "        :param int i: index, from which a parent-index is derived\n",
    "        '''\n",
    "\n",
    "        p = self._parent(i, force=force)\n",
    "        ok, idx = self.heap_prop(p, force=force)\n",
    "        if not ok:\n",
    "            assert idx\n",
    "            self._swap(p, idx)\n",
    "            self.bubbleup(p, force=force)\n",
    "\n",
    "    def insert(self, val):\n",
    "        '''\n",
    "        Adds a new value to the heap, in a spot that satisfies self.heap_prop\n",
    "\n",
    "        :param val: comparable value to insert\n",
    "        '''\n",
    "\n",
    "        assert self.length == self.heapsize, f'self.length: {\n",
    "            self.length}, self.heapsize: {self.heapsize}'\n",
    "        self.ls.append(val)\n",
    "        self.length += 1\n",
    "        self.bubbleup(self.heapsize, force=True)\n",
    "        self.heapsize += 1\n",
    "        print(f'Op: {inspect.currentframe().f_code.co_name}, {self}')\n",
    "\n",
    "    def delete(self, i):\n",
    "        '''\n",
    "        Removes a value from the heap and rebalances the heap accordingly\n",
    "\n",
    "        :param int i: index to remove\n",
    "        '''\n",
    "\n",
    "        self._swap(i, self.length-1)\n",
    "        self.ls = self.ls[:-1]\n",
    "        self.length = len(self.ls)\n",
    "        p = self._parent(i)\n",
    "        ok, idx = self.heap_prop(p)\n",
    "        if not ok:\n",
    "            assert idx\n",
    "            self.bubbleup(i)\n",
    "        else:\n",
    "            self.heapify(i)\n",
    "        self.heapsize = self.length\n",
    "        print(f'Op: {inspect.currentframe().f_code.co_name}, {self}')\n",
    "\n",
    "    def retree_animation(self):\n",
    "        '''\n",
    "        Resets the animation frame to the current state of self.ls,\n",
    "        represented as a tree\n",
    "        '''\n",
    "\n",
    "        self.animation.next_step(clean=True)\n",
    "        for i, v in enumerate(self.ls):\n",
    "            self.animation.label_node(i, label=v)\n",
    "            p = self._parent(i)\n",
    "        # if p and i != p:\n",
    "            self.animation.add_edge(p, i)\n",
    "\n",
    "    def untree_animation(self):\n",
    "        '''\n",
    "        Resets the animation frame to the current state of self.ls,\n",
    "        represented as an array\n",
    "        '''\n",
    "\n",
    "        self.animation.next_step(clean=True)\n",
    "        for p, v in enumerate(self.ls):\n",
    "            i = p + 1\n",
    "            self.animation.label_node(i, label=v)\n",
    "            if self.animation.graphs()[-1].find(f'label=\"{self[p-1]}\"') > -1:\n",
    "                self.animation.add_edge(p, i)\n",
    "\n",
    "    def _left(self, i, force=False) -> int | None:\n",
    "        '''\n",
    "        Gets the index of the left child of a heap element,\n",
    "        handling the conversion betwee 0-indexing and 1-indexing\n",
    "\n",
    "        :param int i: The would-be parent index of the return value\n",
    "        :param bool force: Describes whether to only look in the heap (False),\n",
    "            or whether to look in the entirety of self.ls\n",
    "        :return: the index of i's left-child if it exists, or else, None\n",
    "        :rtype: int | None\n",
    "        '''\n",
    "\n",
    "        idx = (i+1) * 2 - 1\n",
    "        if force:\n",
    "            return idx if idx < self.length else None\n",
    "        else:\n",
    "            return idx if idx < self.heapsize else None\n",
    "\n",
    "    def _right(self, i, force=False) -> int | None:\n",
    "        '''\n",
    "        Gets the index of the right child of a heap element,\n",
    "        handling the conversion betwee 0-indexing and 1-indexing.\n",
    "\n",
    "        :param int i: The would-be parent index of the return value\n",
    "        :param bool force: Describes whether to only look in the heap (False),\n",
    "            or whether to look in the entirety of self.ls\n",
    "        :return: the index of i's right-child if it exists, or else, None\n",
    "        :rtype: int | None\n",
    "        '''\n",
    "\n",
    "        sibling = self._left(i, force=force)\n",
    "        idx = sibling + 1 if sibling else None\n",
    "        if not idx:\n",
    "            return None\n",
    "        if force:\n",
    "            return idx if idx < self.length else None\n",
    "        else:\n",
    "            return idx if idx < self.heapsize else None\n",
    "\n",
    "    def _parent(self, i, force=False) -> int | None:\n",
    "        '''\n",
    "        Gets the index of the parent of a heap element,\n",
    "        handling the conversion betwee 0-indexing and 1-indexing.\n",
    "\n",
    "        :param int i: The would-be left-or-right child index of the return\n",
    "            value\n",
    "        :param bool force: Describes whether to only look in the heap (False),\n",
    "            or whether to look in the entirety of self.ls\n",
    "        :return: the index of i's parent if it exists, or else, None\n",
    "        :rtype: int | None\n",
    "        '''\n",
    "\n",
    "        idx = (i+1) // 2 - 1\n",
    "        if force:\n",
    "            return idx if idx < self.length and idx > -1 else None\n",
    "        else:\n",
    "            return idx if idx < self.heapsize and idx > -1 else None\n",
    "\n",
    "    def _swap(self, i, j):\n",
    "        temp = self[i]\n",
    "        self[i] = self[j]\n",
    "        self[j] = temp\n",
    "        self.retree_animation()\n",
    "        self.animation.highlight_edge(j, i, color='green')\n",
    "\n",
    "    def to_gif(self, size=500):\n",
    "        digest = hashlib.sha256(str(self.ls).encode()).hexdigest()[:8]\n",
    "        assets_dir = f'assets/gvanim/{self.classname()}/{digest}'\n",
    "        basename = str.join('/', [assets_dir, 'frame'])\n",
    "        gif_basename = f'{assets_dir}/{digest}'\n",
    "        svg_basename = f'{assets_dir}/{digest}'\n",
    "        files = None\n",
    "\n",
    "        try:\n",
    "            os.makedirs(assets_dir, exist_ok=False)\n",
    "            files = render(self.animation.graphs(),\n",
    "                           basename, fmt='png', size=size)\n",
    "            render([self.animation.graphs()[-1]],\n",
    "                   basename=svg_basename, fmt='svg', size=size)\n",
    "            gif(files, gif_basename, size=size)\n",
    "        except FileExistsError:\n",
    "            pass\n",
    "\n",
    "        last_state = f'{svg_basename}_000.svg'\n",
    "\n",
    "        display_markdown('**Swapping process**', raw=True)\n",
    "        display_markdown(f\"![]({gif_basename}.gif)\", raw=True)\n",
    "        display_markdown('**Final result**', raw=True)\n",
    "        display_markdown(f\"![]({last_state})\", raw=True)\n",
    "\n",
    "    class SortDir(enum.Enum):\n",
    "        ASC = 0,\n",
    "        DSC = 1,\n",
    "\n",
    "\n",
    "class MinHeap(Heap):\n",
    "    def classname(self):\n",
    "        return __class__.__name__\n",
    "\n",
    "    def heap_prop(self, i, force=False) -> (bool, int | None):\n",
    "        li = self._left(i, force=force)\n",
    "        ri = self._right(i, force=force)\n",
    "        idx = i\n",
    "        if li and self[li] and self[li] < self[idx]:\n",
    "            idx = li\n",
    "        if ri and self[ri] and self[ri] < self[idx]:\n",
    "            idx = ri\n",
    "        # if not idx == i:\n",
    "            # print(f'\\t-> {\n",
    "            #     self.classname()\n",
    "            # } -> self[{idx}]: {self[idx]}, self[{i}]: {self[i]}')\n",
    "        return (idx == i, idx)\n",
    "\n",
    "    def heapsort(self, dir: Heap.SortDir | None = None):\n",
    "        '''\n",
    "        Sorts self.ls in descending order, and takes self.heapsize to 1\n",
    "\n",
    "        :param Heap.SortDir|None: can be used to reverse the total order.\n",
    "        '''\n",
    "        super().heapsort()\n",
    "        if dir == Heap.SortDir.ASC:\n",
    "            list.reverse(self.ls)\n",
    "            self.untree_animation()\n",
    "\n",
    "\n",
    "class MaxHeap(Heap):\n",
    "    def classname(self):\n",
    "        return __class__.__name__\n",
    "\n",
    "    def heap_prop(self, i, force=False) -> (bool, int | None):\n",
    "        li = self._left(i, force=force)\n",
    "        ri = self._right(i, force=force)\n",
    "        idx = i\n",
    "        if li and self[li] and self[li] > self[idx]:\n",
    "            idx = li\n",
    "        if ri and self[ri] and self[ri] > self[idx]:\n",
    "            idx = ri\n",
    "        # if not idx == i:\n",
    "        #     print(f'\\t-> {\n",
    "        #         self.classname()\n",
    "        #     } -> self[{idx}]: {self[idx]}, self[{i}]: {self[i]}')\n",
    "        return (idx == i, idx)\n",
    "\n",
    "    def heapsort(self, dir: Heap.SortDir | None = None):\n",
    "        '''\n",
    "        Sorts self.ls in ascending order, and takes self.heapsize to 1\n",
    "\n",
    "        :param Heap.SortDir|None: can be used to reverse the total order.\n",
    "        '''\n",
    "        super().heapsort()\n",
    "        if dir == Heap.SortDir.DSC:\n",
    "            list.reverse(self.ls)\n",
    "            self.untree_animation()\n"
   ]
  },
  {
   "cell_type": "markdown",
   "id": "363f68f7-be4e-4ec9-8ea0-f5a2f5a8a325",
   "metadata": {},
   "source": [
    "# Demonstration of properties\n",
    "In the code/graphs below, you can see the properties of heaps come alive. If you uncomment the `interactive` statements, you can see how many steps it takes to each method called on the heap, which should be pretty accurate in terms of the time-complexity analysis presented in Chapter 6 of $CLRS$"
   ]
  },
  {
   "cell_type": "code",
   "execution_count": 2,
   "id": "e9a0d933-8000-499f-b0cc-0899646241c6",
   "metadata": {},
   "outputs": [],
   "source": [
    "from gvanim.jupyter import interactive\n",
    "\n",
    "maxheap = MaxHeap([5,3,4,2,1,55,33,22,44,11])\n",
    "minheap = MinHeap([5,3,4,2,1,55,33,22,44,11])"
   ]
  },
  {
   "cell_type": "code",
   "execution_count": 3,
   "id": "c3ceeafc-6ebe-4782-9f4e-b39936619e6f",
   "metadata": {},
   "outputs": [
    {
     "name": "stdout",
     "output_type": "stream",
     "text": [
      "Op: build_heap, MinHeap: [1, 2, 4, 5, 3, 55, 33, 22, 44, 11], heapsize: 10\n",
      "Op: build_heap, MaxHeap: [55, 44, 33, 22, 11, 4, 5, 3, 2, 1], heapsize: 10\n"
     ]
    },
    {
     "data": {
      "text/plain": [
       "[None, None]"
      ]
     },
     "execution_count": 3,
     "metadata": {},
     "output_type": "execute_result"
    }
   ],
   "source": [
    "[h.build_heap() for h in [minheap, maxheap]]"
   ]
  },
  {
   "cell_type": "code",
   "execution_count": 4,
   "id": "14c65f45-ea45-4907-9fd1-c52ae3f5c203",
   "metadata": {},
   "outputs": [
    {
     "name": "stdout",
     "output_type": "stream",
     "text": [
      "MinHeap: [1, 2, 4, 5, 3, 55, 33, 22, 44, 11], heapsize: 10\n"
     ]
    },
    {
     "data": {
      "text/markdown": [
       "## MinHeap.build_heap() $\\longrightarrow$ enforces the heap-property"
      ]
     },
     "metadata": {},
     "output_type": "display_data"
    },
    {
     "data": {
      "text/markdown": [
       "$leftChild_{parent} \\geq parent \\land rightChild_{parent} \\geq parent$"
      ]
     },
     "metadata": {},
     "output_type": "display_data"
    },
    {
     "name": "stderr",
     "output_type": "stream",
     "text": [
      "WARNING: The convert command is deprecated in IMv7, use \"magick\" instead of \"convert\" or \"magick convert\"\n",
      "\n"
     ]
    },
    {
     "data": {
      "text/markdown": [
       "**Swapping process**"
      ]
     },
     "metadata": {},
     "output_type": "display_data"
    },
    {
     "data": {
      "text/markdown": [
       "![](assets/gvanim/MinHeap/bfa3ba66/bfa3ba66.gif)"
      ]
     },
     "metadata": {},
     "output_type": "display_data"
    },
    {
     "data": {
      "text/markdown": [
       "**Final result**"
      ]
     },
     "metadata": {},
     "output_type": "display_data"
    },
    {
     "data": {
      "text/markdown": [
       "![](assets/gvanim/MinHeap/bfa3ba66/bfa3ba66_000.svg)"
      ]
     },
     "metadata": {},
     "output_type": "display_data"
    }
   ],
   "source": [
    "print(minheap)\n",
    "minheap.retree_animation()\n",
    "display_markdown('## MinHeap.build_heap() $\\\\longrightarrow$ enforces the heap-property', raw=True)\n",
    "display_markdown('$leftChild_{parent} \\\\geq parent \\\\land rightChild_{parent} \\\\geq parent$', raw=True)\n",
    "minheap.to_gif()\n",
    "# interactive(minheap.animation, 800)"
   ]
  },
  {
   "cell_type": "code",
   "execution_count": 5,
   "id": "9f08d4fc-46fc-4427-a8f4-b8c3aaa674a7",
   "metadata": {},
   "outputs": [
    {
     "name": "stdout",
     "output_type": "stream",
     "text": [
      "MaxHeap: [55, 44, 33, 22, 11, 4, 5, 3, 2, 1], heapsize: 10\n"
     ]
    },
    {
     "data": {
      "text/markdown": [
       "## MaxHeap.build_heap() $\\longrightarrow$ enforces the heap-property"
      ]
     },
     "metadata": {},
     "output_type": "display_data"
    },
    {
     "data": {
      "text/markdown": [
       "$leftChild_{parent} \\leq parent \\land rightChild_{parent} \\leq parent$"
      ]
     },
     "metadata": {},
     "output_type": "display_data"
    },
    {
     "name": "stderr",
     "output_type": "stream",
     "text": [
      "WARNING: The convert command is deprecated in IMv7, use \"magick\" instead of \"convert\" or \"magick convert\"\n",
      "\n"
     ]
    },
    {
     "data": {
      "text/markdown": [
       "**Swapping process**"
      ]
     },
     "metadata": {},
     "output_type": "display_data"
    },
    {
     "data": {
      "text/markdown": [
       "![](assets/gvanim/MaxHeap/90568b3e/90568b3e.gif)"
      ]
     },
     "metadata": {},
     "output_type": "display_data"
    },
    {
     "data": {
      "text/markdown": [
       "**Final result**"
      ]
     },
     "metadata": {},
     "output_type": "display_data"
    },
    {
     "data": {
      "text/markdown": [
       "![](assets/gvanim/MaxHeap/90568b3e/90568b3e_000.svg)"
      ]
     },
     "metadata": {},
     "output_type": "display_data"
    }
   ],
   "source": [
    "print(maxheap)\n",
    "maxheap.retree_animation()\n",
    "display_markdown('## MaxHeap.build_heap() $\\\\longrightarrow$ enforces the heap-property', raw=True)\n",
    "display_markdown('$leftChild_{parent} \\\\leq parent \\\\land rightChild_{parent} \\\\leq parent$', raw=True)\n",
    "maxheap.to_gif()\n",
    "# interactive(maxheap.animation, 800)"
   ]
  },
  {
   "cell_type": "code",
   "execution_count": 6,
   "id": "6d11ebbe-06b0-4654-84b8-ccaf406090ec",
   "metadata": {},
   "outputs": [
    {
     "name": "stdout",
     "output_type": "stream",
     "text": [
      "MaxHeap: [55, 44, 33, 22, 11, 4, 5, 3, 2, 1], heapsize: 10\n",
      "Op: insert, MaxHeap: [55, 44, 33, 22, 11, 4, 5, 3, 2, 1, 8], heapsize: 11\n"
     ]
    },
    {
     "data": {
      "text/markdown": [
       "## MaxHeap.insert(8) $\\longrightarrow$ insertion maintains heap-property"
      ]
     },
     "metadata": {},
     "output_type": "display_data"
    },
    {
     "name": "stderr",
     "output_type": "stream",
     "text": [
      "WARNING: The convert command is deprecated in IMv7, use \"magick\" instead of \"convert\" or \"magick convert\"\n",
      "\n"
     ]
    },
    {
     "data": {
      "text/markdown": [
       "**Swapping process**"
      ]
     },
     "metadata": {},
     "output_type": "display_data"
    },
    {
     "data": {
      "text/markdown": [
       "![](assets/gvanim/MaxHeap/81de6a90/81de6a90.gif)"
      ]
     },
     "metadata": {},
     "output_type": "display_data"
    },
    {
     "data": {
      "text/markdown": [
       "**Final result**"
      ]
     },
     "metadata": {},
     "output_type": "display_data"
    },
    {
     "data": {
      "text/markdown": [
       "![](assets/gvanim/MaxHeap/81de6a90/81de6a90_000.svg)"
      ]
     },
     "metadata": {},
     "output_type": "display_data"
    },
    {
     "name": "stdout",
     "output_type": "stream",
     "text": [
      "MaxHeap: [55, 44, 33, 22, 11, 4, 5, 3, 2, 1, 8], heapsize: 11\n",
      "Op: delete, MaxHeap: [55, 44, 33, 22, 11, 4, 5, 3, 2, 1], heapsize: 10\n",
      "MaxHeap: [55, 44, 33, 22, 11, 4, 5, 3, 2, 1], heapsize: 10\n"
     ]
    },
    {
     "data": {
      "text/markdown": [
       "## MaxHeap.delete(indexOf(8)) $\\longrightarrow$ deletion maintains heap-property"
      ]
     },
     "metadata": {},
     "output_type": "display_data"
    },
    {
     "data": {
      "text/markdown": [
       "**Swapping process**"
      ]
     },
     "metadata": {},
     "output_type": "display_data"
    },
    {
     "data": {
      "text/markdown": [
       "![](assets/gvanim/MaxHeap/90568b3e/90568b3e.gif)"
      ]
     },
     "metadata": {},
     "output_type": "display_data"
    },
    {
     "data": {
      "text/markdown": [
       "**Final result**"
      ]
     },
     "metadata": {},
     "output_type": "display_data"
    },
    {
     "data": {
      "text/markdown": [
       "![](assets/gvanim/MaxHeap/90568b3e/90568b3e_000.svg)"
      ]
     },
     "metadata": {},
     "output_type": "display_data"
    }
   ],
   "source": [
    "print(maxheap)\n",
    "maxheap.insert(8)\n",
    "display_markdown('## MaxHeap.insert(8) $\\\\longrightarrow$ insertion maintains heap-property', raw=True)\n",
    "maxheap.to_gif()\n",
    "\n",
    "print(maxheap)\n",
    "maxheap.delete(maxheap.ls.index(8))\n",
    "print(maxheap)\n",
    "maxheap.retree_animation()\n",
    "display_markdown('## MaxHeap.delete(indexOf(8)) $\\\\longrightarrow$ deletion maintains heap-property', raw=True)\n",
    "maxheap.to_gif()"
   ]
  },
  {
   "cell_type": "code",
   "execution_count": 7,
   "id": "c5298212-7e9c-409e-9f48-535496a62af1",
   "metadata": {},
   "outputs": [
    {
     "name": "stdout",
     "output_type": "stream",
     "text": [
      "Op: build_heap, MinHeap: [1, 2, 4, 5, 3, 55, 33, 22, 44, 11], heapsize: 10\n",
      "Op: heapsort, MinHeap: [55, 44, 33, 22, 11, 5, 4, 3, 2, 1], heapsize: 1\n",
      "Op: build_heap, MaxHeap: [55, 44, 33, 22, 11, 4, 5, 3, 2, 1], heapsize: 10\n",
      "Op: heapsort, MaxHeap: [1, 2, 3, 4, 5, 11, 22, 33, 44, 55], heapsize: 1\n"
     ]
    },
    {
     "data": {
      "text/plain": [
       "[None, None]"
      ]
     },
     "execution_count": 7,
     "metadata": {},
     "output_type": "execute_result"
    }
   ],
   "source": [
    "[h.heapsort() for h in [minheap, maxheap]]"
   ]
  },
  {
   "cell_type": "code",
   "execution_count": 8,
   "id": "2243b6d6-29fc-488a-81d8-1b2d28050083",
   "metadata": {
    "scrolled": true
   },
   "outputs": [
    {
     "name": "stdout",
     "output_type": "stream",
     "text": [
      "MaxHeap: [1, 2, 3, 4, 5, 11, 22, 33, 44, 55], heapsize: 1\n"
     ]
    },
    {
     "data": {
      "text/markdown": [
       "## MaxHeap.heapsort() $\\longrightarrow$ total order (ascending)"
      ]
     },
     "metadata": {},
     "output_type": "display_data"
    },
    {
     "data": {
      "text/markdown": [
       "**Swapping process**"
      ]
     },
     "metadata": {},
     "output_type": "display_data"
    },
    {
     "data": {
      "text/markdown": [
       "![](assets/gvanim/MaxHeap/9b1a9e20/9b1a9e20.gif)"
      ]
     },
     "metadata": {},
     "output_type": "display_data"
    },
    {
     "data": {
      "text/markdown": [
       "**Final result**"
      ]
     },
     "metadata": {},
     "output_type": "display_data"
    },
    {
     "data": {
      "text/markdown": [
       "![](assets/gvanim/MaxHeap/9b1a9e20/9b1a9e20_000.svg)"
      ]
     },
     "metadata": {},
     "output_type": "display_data"
    }
   ],
   "source": [
    "print(maxheap)\n",
    "display_markdown('## MaxHeap.heapsort() $\\\\longrightarrow$ total order (ascending)', raw=True)\n",
    "maxheap.to_gif()\n",
    "# interactive(maxheap.animation, 800)"
   ]
  },
  {
   "cell_type": "code",
   "execution_count": 9,
   "id": "738be8f8-0500-49bf-9497-e6a87221d2d6",
   "metadata": {
    "scrolled": true
   },
   "outputs": [
    {
     "name": "stdout",
     "output_type": "stream",
     "text": [
      "MinHeap: [55, 44, 33, 22, 11, 5, 4, 3, 2, 1], heapsize: 1\n"
     ]
    },
    {
     "data": {
      "text/markdown": [
       "## MinHeap.heapsort() $\\longrightarrow$ total order (descending)"
      ]
     },
     "metadata": {},
     "output_type": "display_data"
    },
    {
     "data": {
      "text/markdown": [
       "**Swapping process**"
      ]
     },
     "metadata": {},
     "output_type": "display_data"
    },
    {
     "data": {
      "text/markdown": [
       "![](assets/gvanim/MinHeap/a3b7d4b2/a3b7d4b2.gif)"
      ]
     },
     "metadata": {},
     "output_type": "display_data"
    },
    {
     "data": {
      "text/markdown": [
       "**Final result**"
      ]
     },
     "metadata": {},
     "output_type": "display_data"
    },
    {
     "data": {
      "text/markdown": [
       "![](assets/gvanim/MinHeap/a3b7d4b2/a3b7d4b2_000.svg)"
      ]
     },
     "metadata": {},
     "output_type": "display_data"
    }
   ],
   "source": [
    "print(minheap)\n",
    "display_markdown('## MinHeap.heapsort() $\\\\longrightarrow$ total order (descending)', raw=True)\n",
    "minheap.to_gif()\n",
    "# interactive(minheap.animation, 800)"
   ]
  }
 ],
 "metadata": {
  "kernelspec": {
   "display_name": "Python 3 (ipykernel)",
   "language": "python",
   "name": "python3"
  },
  "language_info": {
   "codemirror_mode": {
    "name": "ipython",
    "version": 3
   },
   "file_extension": ".py",
   "mimetype": "text/x-python",
   "name": "python",
   "nbconvert_exporter": "python",
   "pygments_lexer": "ipython3",
   "version": "3.13.5"
  }
 },
 "nbformat": 4,
 "nbformat_minor": 5
}
