{
 "cells": [
  {
   "cell_type": "markdown",
   "id": "7d15f6f5-da1d-428e-961d-69b05fa65121",
   "metadata": {},
   "source": [
    "# Implementation\n",
    "\n",
    "## Pythonic Nuances\n",
    "- `ABC` stands for *$A$bstract $B$ase $C$lass*. This is the way I learned how to implement inheritance-based polymorphism\n",
    "- `__getitem__` and `__setitem__` give you the conveniences of `self[index] = value` style syntax, matching the pseudocode in $CLRS$\n",
    "- `x // y` is equivalent to $\\lfloor x \\div y \\rfloor$ (aka. *floor division*)\n",
    "- Python is a zero-indexed language; as such, the first element of a list is the $0^{th}$, not the $1^{st}$. As such, to do the floor division required by `_left(i), _right(i), _parent(i)`, we must do some rejiggering.\n",
    "    - we must add 1 to i before we divide, so we can do our 1-indexed calculations on natural numbers ( ${\\mathbb{N}}$ )\n",
    "    - we must subtract 1 to convert back to our 0-indexed convention for indexing items of Python lists"
   ]
  },
  {
   "cell_type": "code",
   "execution_count": 1,
   "id": "acc24ff0-e77d-4dfc-8c51-c579c87fbe3e",
   "metadata": {},
   "outputs": [],
   "source": [
    "from IPython.display import display_markdown\n",
    "from abc import ABC, abstractmethod\n",
    "from gvanim import Animation, gif, render\n",
    "import enum\n",
    "import hashlib\n",
    "import inspect\n",
    "import os\n",
    "\n",
    "\n",
    "class Heap(ABC):\n",
    "    def __init__(self, ls):\n",
    "        self.ls = ls\n",
    "        self.heapsize = 0\n",
    "        self.length = len(ls)\n",
    "        self.animation = Animation()\n",
    "        self.retree_animation()\n",
    "\n",
    "    def __getitem__(self, i):\n",
    "        if not i < self.length:\n",
    "            return None\n",
    "        return self.ls[i]\n",
    "\n",
    "    def __setitem__(self, i, val):\n",
    "        self.ls[i] = val\n",
    "\n",
    "    def __repr__(self):\n",
    "        return f'{self.classname()}: {self.ls}, heapsize: {self.heapsize}'\n",
    "\n",
    "    @abstractmethod\n",
    "    def classname(self):\n",
    "        ...\n",
    "\n",
    "    @abstractmethod\n",
    "    def heap_prop(self, i, force=False) -> (bool, int | None):\n",
    "        '''\n",
    "        Describes the appropriate relationship\n",
    "        between parents and children in the heap.\n",
    "\n",
    "        :param int i: parent index, to which derived child-indices are compared\n",
    "        :param bool force: Describes whether to only look in the heap (False),\n",
    "            or whether to look in the entirety of self.ls\n",
    "        :return: a tuple `(ok, idx)`. `ok` describes whether the heap_property\n",
    "            is satisfied (True), or violated (False). `idx` describes the index\n",
    "            of the value that ought to be swapped for the value at self[i]\n",
    "        :rtype: (bool, int)\n",
    "        '''\n",
    "        ...\n",
    "\n",
    "    def heapify(self, i):\n",
    "        '''\n",
    "        Bubbles down values that do not abide\n",
    "        by the self.heap_prop, starting at index i\n",
    "\n",
    "        :param int i: parent index of the heap or subheap that will be walked.\n",
    "        :param bool force: Describes whether to only look in the heap (False),\n",
    "            or whether to look in the entirety of self.ls\n",
    "        '''\n",
    "\n",
    "        ok, idx = self.heap_prop(i)\n",
    "        if not ok:\n",
    "            self._swap(idx, i)\n",
    "            self.heapify(idx)\n",
    "        return self\n",
    "\n",
    "    def build_heap(self):\n",
    "        '''\n",
    "        Transforms an unsorted self.ls into a heap\n",
    "        that abides by self.heap_prop\n",
    "        '''\n",
    "\n",
    "        if self.animation.steps():\n",
    "            self.animation = Animation()\n",
    "        self.heapsize = self.length\n",
    "        for i in reversed(range(0, self.length//2)):\n",
    "            self.heapify(i)\n",
    "        print(f'Op: {inspect.currentframe().f_code.co_name}, {self}')\n",
    "        return self\n",
    "\n",
    "    def heapsort(self):\n",
    "        '''\n",
    "        Takes self.heapsize from self.length to 1, while reordering self.ls\n",
    "        MaxHeap will give an ascending total order.\n",
    "        MinHeap will give a descending total order.\n",
    "        '''\n",
    "\n",
    "        self.build_heap()\n",
    "        for i in reversed(range(1, self.length)):\n",
    "            self._swap(0, i)\n",
    "            self.heapsize -= 1\n",
    "            self.heapify(0)\n",
    "        self.untree_animation()\n",
    "        print(f'Op: {inspect.currentframe().f_code.co_name}, {self}')\n",
    "        return self\n",
    "\n",
    "    def bubbleup(self, i, force=False):\n",
    "        '''\n",
    "        Recursively increases the height of a value in the heap, until its\n",
    "        relation to its parent no longer violates self.heap_prop\n",
    "\n",
    "        :param int i: index, from which a parent-index is derived\n",
    "        '''\n",
    "\n",
    "        p = self._parent(i, force=force)\n",
    "        ok, idx = self.heap_prop(p, force=force)\n",
    "        if not ok:\n",
    "            assert idx\n",
    "            self._swap(p, idx)\n",
    "            self.bubbleup(p, force=force)\n",
    "        return self\n",
    "\n",
    "    def insert(self, val):\n",
    "        '''\n",
    "        Adds a new value to the heap, in a spot that satisfies self.heap_prop\n",
    "\n",
    "        :param val: comparable value to insert\n",
    "        '''\n",
    "\n",
    "        assert self.length == self.heapsize, f'self.length: {\n",
    "            self.length}, self.heapsize: {self.heapsize}'\n",
    "        self.ls.append(val)\n",
    "        self.length += 1\n",
    "        self.bubbleup(self.heapsize, force=True)\n",
    "        self.heapsize += 1\n",
    "        print(f'Op: {inspect.currentframe().f_code.co_name}, {self}')\n",
    "        return self\n",
    "\n",
    "    def delete(self, i):\n",
    "        '''\n",
    "        Removes a value from the heap and rebalances the heap accordingly\n",
    "\n",
    "        :param int i: index to remove\n",
    "        '''\n",
    "\n",
    "        self._swap(i, self.length-1)\n",
    "        self.ls = self.ls[:-1]\n",
    "        self.length = len(self.ls)\n",
    "        p = self._parent(i)\n",
    "        ok, idx = self.heap_prop(p)\n",
    "        if not ok:\n",
    "            assert idx\n",
    "            self.bubbleup(i)\n",
    "        else:\n",
    "            self.heapify(i)\n",
    "        self.heapsize = self.length\n",
    "        print(f'Op: {inspect.currentframe().f_code.co_name}, {self}')\n",
    "        return self\n",
    "\n",
    "    def retree_animation(self):\n",
    "        '''\n",
    "        Resets the animation frame to the current state of self.ls,\n",
    "        represented as a tree\n",
    "        '''\n",
    "\n",
    "        self.animation.next_step(clean=True)\n",
    "        for i, v in enumerate(self.ls):\n",
    "            self.animation.label_node(i, label=v)\n",
    "            p = self._parent(i)\n",
    "        # if p and i != p:\n",
    "            self.animation.add_edge(p, i)\n",
    "\n",
    "    def untree_animation(self):\n",
    "        '''\n",
    "        Resets the animation frame to the current state of self.ls,\n",
    "        represented as an array\n",
    "        '''\n",
    "\n",
    "        self.animation.next_step(clean=True)\n",
    "        for p, v in enumerate(self.ls):\n",
    "            i = p + 1\n",
    "            self.animation.label_node(i, label=v)\n",
    "            if self.animation.graphs()[-1].find(f'label=\"{self[p-1]}\"') > -1:\n",
    "                self.animation.add_edge(p, i)\n",
    "\n",
    "    def _left(self, i, force=False) -> int | None:\n",
    "        '''\n",
    "        Gets the index of the left child of a heap element,\n",
    "        handling the conversion betwee 0-indexing and 1-indexing\n",
    "\n",
    "        :param int i: The would-be parent index of the return value\n",
    "        :param bool force: Describes whether to only look in the heap (False),\n",
    "            or whether to look in the entirety of self.ls\n",
    "        :return: the index of i's left-child if it exists, or else, None\n",
    "        :rtype: int | None\n",
    "        '''\n",
    "\n",
    "        idx = (i+1) * 2 - 1\n",
    "        if force:\n",
    "            return idx if idx < self.length else None\n",
    "        else:\n",
    "            return idx if idx < self.heapsize else None\n",
    "\n",
    "    def _right(self, i, force=False) -> int | None:\n",
    "        '''\n",
    "        Gets the index of the right child of a heap element,\n",
    "        handling the conversion betwee 0-indexing and 1-indexing.\n",
    "\n",
    "        :param int i: The would-be parent index of the return value\n",
    "        :param bool force: Describes whether to only look in the heap (False),\n",
    "            or whether to look in the entirety of self.ls\n",
    "        :return: the index of i's right-child if it exists, or else, None\n",
    "        :rtype: int | None\n",
    "        '''\n",
    "\n",
    "        sibling = self._left(i, force=force)\n",
    "        idx = sibling + 1 if sibling else None\n",
    "        if not idx:\n",
    "            return None\n",
    "        if force:\n",
    "            return idx if idx < self.length else None\n",
    "        else:\n",
    "            return idx if idx < self.heapsize else None\n",
    "\n",
    "    def _parent(self, i, force=False) -> int | None:\n",
    "        '''\n",
    "        Gets the index of the parent of a heap element,\n",
    "        handling the conversion betwee 0-indexing and 1-indexing.\n",
    "\n",
    "        :param int i: The would-be left-or-right child index of the return\n",
    "            value\n",
    "        :param bool force: Describes whether to only look in the heap (False),\n",
    "            or whether to look in the entirety of self.ls\n",
    "        :return: the index of i's parent if it exists, or else, None\n",
    "        :rtype: int | None\n",
    "        '''\n",
    "\n",
    "        idx = (i+1) // 2 - 1\n",
    "        if force:\n",
    "            return idx if idx < self.length and idx > -1 else None\n",
    "        else:\n",
    "            return idx if idx < self.heapsize and idx > -1 else None\n",
    "\n",
    "    def _swap(self, i, j):\n",
    "        self.retree_animation()\n",
    "        self.animation.next_step()\n",
    "        self.animation.highlight_edge(j,i)\n",
    "        temp = self[i]\n",
    "        self[i] = self[j]\n",
    "        self[j] = temp\n",
    "        self.retree_animation()\n",
    "        self.animation.highlight_edge(j, i, color='green')\n",
    "\n",
    "    def to_gif(self, size=500):\n",
    "        digest = hashlib.sha256(str(self.ls).encode()).hexdigest()[:8]\n",
    "        assets_dir = f'assets/gvanim/{self.classname()}/{digest}'\n",
    "        basename = str.join('/', [assets_dir, 'frame'])\n",
    "        gif_basename = f'{assets_dir}/{digest}'\n",
    "        svg_basename = f'{assets_dir}/{digest}'\n",
    "        files = None\n",
    "\n",
    "        try:\n",
    "            os.makedirs(assets_dir, exist_ok=False)\n",
    "            files = render(self.animation.graphs(),\n",
    "                           basename, fmt='png', size=size)\n",
    "            render([self.animation.graphs()[-1]],\n",
    "                   basename=svg_basename, fmt='svg', size=size)\n",
    "            gif(files, gif_basename, size=size)\n",
    "        except FileExistsError:\n",
    "            pass\n",
    "\n",
    "        last_state = f'{svg_basename}_000.svg'\n",
    "\n",
    "        display_markdown('**Swapping process**', raw=True)\n",
    "        display_markdown(f\"![]({gif_basename}.gif)\", raw=True)\n",
    "        display_markdown('**Final result**', raw=True)\n",
    "        display_markdown(f\"![]({last_state})\", raw=True)\n",
    "\n",
    "    class SortDir(enum.Enum):\n",
    "        ASC = 0,\n",
    "        DSC = 1,\n",
    "\n",
    "\n",
    "class MinHeap(Heap):\n",
    "    def classname(self):\n",
    "        return __class__.__name__\n",
    "\n",
    "    def heap_prop(self, i, force=False) -> (bool, int | None):\n",
    "        li = self._left(i, force=force)\n",
    "        ri = self._right(i, force=force)\n",
    "        idx = i\n",
    "        if li and self[li] and self[li] < self[idx]:\n",
    "            idx = li\n",
    "        if ri and self[ri] and self[ri] < self[idx]:\n",
    "            idx = ri\n",
    "        # if not idx == i:\n",
    "            # print(f'\\t-> {\n",
    "            #     self.classname()\n",
    "            # } -> self[{idx}]: {self[idx]}, self[{i}]: {self[i]}')\n",
    "        return (idx == i, idx)\n",
    "\n",
    "    def heapsort(self, dir: Heap.SortDir | None = None):\n",
    "        '''\n",
    "        Sorts self.ls in descending order, and takes self.heapsize to 1\n",
    "\n",
    "        :param Heap.SortDir|None: can be used to reverse the total order.\n",
    "        '''\n",
    "        super().heapsort()\n",
    "        if dir == Heap.SortDir.ASC:\n",
    "            list.reverse(self.ls)\n",
    "            self.untree_animation()\n",
    "\n",
    "\n",
    "class MaxHeap(Heap):\n",
    "    def classname(self):\n",
    "        return __class__.__name__\n",
    "\n",
    "    def heap_prop(self, i, force=False) -> (bool, int | None):\n",
    "        li = self._left(i, force=force)\n",
    "        ri = self._right(i, force=force)\n",
    "        idx = i\n",
    "        if li and self[li] and self[li] > self[idx]:\n",
    "            idx = li\n",
    "        if ri and self[ri] and self[ri] > self[idx]:\n",
    "            idx = ri\n",
    "        # if not idx == i:\n",
    "        #     print(f'\\t-> {\n",
    "        #         self.classname()\n",
    "        #     } -> self[{idx}]: {self[idx]}, self[{i}]: {self[i]}')\n",
    "        return (idx == i, idx)\n",
    "\n",
    "    def heapsort(self, dir: Heap.SortDir | None = None):\n",
    "        '''\n",
    "        Sorts self.ls in ascending order, and takes self.heapsize to 1\n",
    "\n",
    "        :param Heap.SortDir|None: can be used to reverse the total order.\n",
    "        '''\n",
    "        super().heapsort()\n",
    "        if dir == Heap.SortDir.DSC:\n",
    "            list.reverse(self.ls)\n",
    "            self.untree_animation()\n"
   ]
  },
  {
   "cell_type": "markdown",
   "id": "363f68f7-be4e-4ec9-8ea0-f5a2f5a8a325",
   "metadata": {},
   "source": [
    "# Demonstration of properties\n",
    "In the code/graphs below, you can see the properties of heaps come alive. If you uncomment the `interactive` statements, you can see how many steps it takes to each method called on the heap, which should be pretty accurate in terms of the time-complexity analysis presented in Chapter 6 of $CLRS$"
   ]
  },
  {
   "cell_type": "code",
   "execution_count": 2,
   "id": "e9a0d933-8000-499f-b0cc-0899646241c6",
   "metadata": {},
   "outputs": [],
   "source": [
    "from gvanim.jupyter import interactive\n",
    "\n",
    "def maxheap(ls=[5,3,4,2,1,55,33,22,44,11]):\n",
    "     return MaxHeap(ls)\n",
    "    \n",
    "def minheap(ls=[5,3,4,2,1,55,33,22,44,11]):\n",
    "     return MinHeap(ls)\n",
    "\n",
    "def demo(h:Heap, fx, *args, fmt='gif', i_size=800, **kwargs,):\n",
    "    before = str(h)\n",
    "    args = (h,) + args if args else h\n",
    "    fx(args) if not kwargs else (fx, args, kwargs)\n",
    "    after = str(h)\n",
    "    h.retree_animation()\n",
    "    print(f'before: {before}')\n",
    "    print(f'after: {after}`')\n",
    "    h.to_gif() if fmt == 'gif' else interactive(h.animation, i_size)"
   ]
  },
  {
   "cell_type": "markdown",
   "id": "e7451e76-8885-40c2-b2cd-4f0de0f28b5c",
   "metadata": {},
   "source": [
    "## MinHeap.build_heap() $\\longrightarrow$ enforces the heap-property\n",
    "\n",
    "$leftChild_{parent} \\geq parent \\land rightChild_{parent} \\geq parent$"
   ]
  },
  {
   "cell_type": "code",
   "execution_count": 3,
   "id": "b479fba9-7c84-4392-8a0c-681e64e17223",
   "metadata": {},
   "outputs": [
    {
     "name": "stdout",
     "output_type": "stream",
     "text": [
      "Op: build_heap, MinHeap: [1, 2, 4, 5, 3, 55, 33, 22, 44, 11], heapsize: 10\n",
      "before: MinHeap: [5, 3, 4, 2, 1, 55, 33, 22, 44, 11], heapsize: 0\n",
      "after: MinHeap: [1, 2, 4, 5, 3, 55, 33, 22, 44, 11], heapsize: 10`\n"
     ]
    },
    {
     "name": "stderr",
     "output_type": "stream",
     "text": [
      "WARNING: The convert command is deprecated in IMv7, use \"magick\" instead of \"convert\" or \"magick convert\"\n",
      "\n"
     ]
    },
    {
     "data": {
      "text/markdown": [
       "**Swapping process**"
      ]
     },
     "metadata": {},
     "output_type": "display_data"
    },
    {
     "data": {
      "text/markdown": [
       "![](assets/gvanim/MinHeap/bfa3ba66/bfa3ba66.gif)"
      ]
     },
     "metadata": {},
     "output_type": "display_data"
    },
    {
     "data": {
      "text/markdown": [
       "**Final result**"
      ]
     },
     "metadata": {},
     "output_type": "display_data"
    },
    {
     "data": {
      "text/markdown": [
       "![](assets/gvanim/MinHeap/bfa3ba66/bfa3ba66_000.svg)"
      ]
     },
     "metadata": {},
     "output_type": "display_data"
    }
   ],
   "source": [
    "demo(minheap(), MinHeap.build_heap)\n",
    "# demo(minheap(), MinHeap.build_heap, fmt='?')"
   ]
  },
  {
   "cell_type": "markdown",
   "id": "8fb63a02-74ff-4824-8a8a-7d5e01063e12",
   "metadata": {},
   "source": [
    "## MaxHeap.build_heap() $\\longrightarrow$ enforces the heap-property\n",
    "$leftChild_{parent} \\leq parent \\land rightChild_{parent} \\leq parent$"
   ]
  },
  {
   "cell_type": "code",
   "execution_count": 4,
   "id": "f864b4e4-e0e3-402c-b26b-cb20b5cff64b",
   "metadata": {},
   "outputs": [
    {
     "name": "stdout",
     "output_type": "stream",
     "text": [
      "Op: build_heap, MaxHeap: [55, 44, 33, 22, 11, 4, 5, 3, 2, 1], heapsize: 10\n",
      "before: MaxHeap: [5, 3, 4, 2, 1, 55, 33, 22, 44, 11], heapsize: 0\n",
      "after: MaxHeap: [55, 44, 33, 22, 11, 4, 5, 3, 2, 1], heapsize: 10`\n"
     ]
    },
    {
     "name": "stderr",
     "output_type": "stream",
     "text": [
      "WARNING: The convert command is deprecated in IMv7, use \"magick\" instead of \"convert\" or \"magick convert\"\n",
      "\n"
     ]
    },
    {
     "data": {
      "text/markdown": [
       "**Swapping process**"
      ]
     },
     "metadata": {},
     "output_type": "display_data"
    },
    {
     "data": {
      "text/markdown": [
       "![](assets/gvanim/MaxHeap/90568b3e/90568b3e.gif)"
      ]
     },
     "metadata": {},
     "output_type": "display_data"
    },
    {
     "data": {
      "text/markdown": [
       "**Final result**"
      ]
     },
     "metadata": {},
     "output_type": "display_data"
    },
    {
     "data": {
      "text/markdown": [
       "![](assets/gvanim/MaxHeap/90568b3e/90568b3e_000.svg)"
      ]
     },
     "metadata": {},
     "output_type": "display_data"
    }
   ],
   "source": [
    "demo(maxheap(), MaxHeap.build_heap)\n",
    "# demo(maxheap(), MaxHeap.build_heap, fmt='?')"
   ]
  },
  {
   "cell_type": "markdown",
   "id": "402e6555-7cc9-4cf7-a8f2-ee73fc497bc7",
   "metadata": {},
   "source": [
    "## MaxHeap.insert(8) $\\longrightarrow$ insertion maintains heap-property"
   ]
  },
  {
   "cell_type": "code",
   "execution_count": 5,
   "id": "d296e366-0932-4935-938e-b41b087287df",
   "metadata": {},
   "outputs": [
    {
     "name": "stdout",
     "output_type": "stream",
     "text": [
      "before: MaxHeap: [55, 44, 33, 22, 11, 4, 5, 3, 2, 1], heapsize: 0\n",
      "after: MaxHeap: [55, 44, 33, 22, 11, 4, 5, 3, 2, 1], heapsize: 0`\n"
     ]
    },
    {
     "data": {
      "text/markdown": [
       "**Swapping process**"
      ]
     },
     "metadata": {},
     "output_type": "display_data"
    },
    {
     "data": {
      "text/markdown": [
       "![](assets/gvanim/MaxHeap/90568b3e/90568b3e.gif)"
      ]
     },
     "metadata": {},
     "output_type": "display_data"
    },
    {
     "data": {
      "text/markdown": [
       "**Final result**"
      ]
     },
     "metadata": {},
     "output_type": "display_data"
    },
    {
     "data": {
      "text/markdown": [
       "![](assets/gvanim/MaxHeap/90568b3e/90568b3e_000.svg)"
      ]
     },
     "metadata": {},
     "output_type": "display_data"
    }
   ],
   "source": [
    "demo(maxheap(), Heap.insert, val=8)\n",
    "# demo(maxheap(), Heap.insert, val=8, fmt='?')"
   ]
  },
  {
   "cell_type": "markdown",
   "id": "bcb8b973-d8b4-45f5-93ee-ea7b3b00dec0",
   "metadata": {},
   "source": [
    "## MaxHeap.delete(indexOf(8)) $\\longrightarrow$ deletion maintains heap-property"
   ]
  },
  {
   "cell_type": "code",
   "execution_count": 6,
   "id": "6d11ebbe-06b0-4654-84b8-ccaf406090ec",
   "metadata": {},
   "outputs": [
    {
     "name": "stdout",
     "output_type": "stream",
     "text": [
      "before: MaxHeap: [55, 44, 33, 22, 11, 4, 5, 3, 2, 1], heapsize: 0\n",
      "after: MaxHeap: [55, 44, 33, 22, 11, 4, 5, 3, 2, 1], heapsize: 0`\n"
     ]
    },
    {
     "data": {
      "text/markdown": [
       "**Swapping process**"
      ]
     },
     "metadata": {},
     "output_type": "display_data"
    },
    {
     "data": {
      "text/markdown": [
       "![](assets/gvanim/MaxHeap/90568b3e/90568b3e.gif)"
      ]
     },
     "metadata": {},
     "output_type": "display_data"
    },
    {
     "data": {
      "text/markdown": [
       "**Final result**"
      ]
     },
     "metadata": {},
     "output_type": "display_data"
    },
    {
     "data": {
      "text/markdown": [
       "![](assets/gvanim/MaxHeap/90568b3e/90568b3e_000.svg)"
      ]
     },
     "metadata": {},
     "output_type": "display_data"
    }
   ],
   "source": [
    "h=maxheap()\n",
    "demo(h, MaxHeap.delete, i=h.ls.index(22))\n",
    "# demo(h, MaxHeap.delete, i=h.ls.index(22), fmt='?')"
   ]
  },
  {
   "cell_type": "markdown",
   "id": "f6820ac9-a043-4357-8f57-75af1b81d0a7",
   "metadata": {},
   "source": [
    "## MaxHeap.heapsort() $\\longrightarrow$ total order (ascending)"
   ]
  },
  {
   "cell_type": "code",
   "execution_count": 7,
   "id": "e54b4bf2-5196-40fe-8395-80e3ade29595",
   "metadata": {},
   "outputs": [
    {
     "name": "stdout",
     "output_type": "stream",
     "text": [
      "Op: build_heap, MaxHeap: [55, 44, 33, 22, 11, 4, 5, 3, 2, 1], heapsize: 10\n",
      "Op: heapsort, MaxHeap: [1, 2, 3, 4, 5, 11, 22, 33, 44, 55], heapsize: 1\n",
      "before: MaxHeap: [55, 44, 33, 22, 11, 4, 5, 3, 2, 1], heapsize: 0\n",
      "after: MaxHeap: [1, 2, 3, 4, 5, 11, 22, 33, 44, 55], heapsize: 1`\n"
     ]
    },
    {
     "name": "stderr",
     "output_type": "stream",
     "text": [
      "WARNING: The convert command is deprecated in IMv7, use \"magick\" instead of \"convert\" or \"magick convert\"\n",
      "\n"
     ]
    },
    {
     "data": {
      "text/markdown": [
       "**Swapping process**"
      ]
     },
     "metadata": {},
     "output_type": "display_data"
    },
    {
     "data": {
      "text/markdown": [
       "![](assets/gvanim/MaxHeap/9b1a9e20/9b1a9e20.gif)"
      ]
     },
     "metadata": {},
     "output_type": "display_data"
    },
    {
     "data": {
      "text/markdown": [
       "**Final result**"
      ]
     },
     "metadata": {},
     "output_type": "display_data"
    },
    {
     "data": {
      "text/markdown": [
       "![](assets/gvanim/MaxHeap/9b1a9e20/9b1a9e20_000.svg)"
      ]
     },
     "metadata": {},
     "output_type": "display_data"
    }
   ],
   "source": [
    "demo(maxheap(), MaxHeap.heapsort)\n",
    "# demo(maxheap(), MaxHeap.heapsort, fmt='?')"
   ]
  },
  {
   "cell_type": "markdown",
   "id": "098144fa-4331-4e67-b372-72c34de863ea",
   "metadata": {
    "scrolled": true
   },
   "source": [
    "## MinHeap.heapsort() $\\longrightarrow$ total order (descending)"
   ]
  },
  {
   "cell_type": "code",
   "execution_count": 8,
   "id": "555269c4-4295-4dad-a42a-ae0de226a50d",
   "metadata": {
    "scrolled": true
   },
   "outputs": [
    {
     "name": "stdout",
     "output_type": "stream",
     "text": [
      "Op: build_heap, MinHeap: [1, 2, 4, 5, 3, 55, 33, 22, 44, 11], heapsize: 10\n",
      "Op: heapsort, MinHeap: [55, 44, 33, 22, 11, 5, 4, 3, 2, 1], heapsize: 1\n",
      "before: MinHeap: [1, 2, 4, 5, 3, 55, 33, 22, 44, 11], heapsize: 0\n",
      "after: MinHeap: [55, 44, 33, 22, 11, 5, 4, 3, 2, 1], heapsize: 1`\n"
     ]
    },
    {
     "name": "stderr",
     "output_type": "stream",
     "text": [
      "WARNING: The convert command is deprecated in IMv7, use \"magick\" instead of \"convert\" or \"magick convert\"\n",
      "\n"
     ]
    },
    {
     "data": {
      "text/markdown": [
       "**Swapping process**"
      ]
     },
     "metadata": {},
     "output_type": "display_data"
    },
    {
     "data": {
      "text/markdown": [
       "![](assets/gvanim/MinHeap/a3b7d4b2/a3b7d4b2.gif)"
      ]
     },
     "metadata": {},
     "output_type": "display_data"
    },
    {
     "data": {
      "text/markdown": [
       "**Final result**"
      ]
     },
     "metadata": {},
     "output_type": "display_data"
    },
    {
     "data": {
      "text/markdown": [
       "![](assets/gvanim/MinHeap/a3b7d4b2/a3b7d4b2_000.svg)"
      ]
     },
     "metadata": {},
     "output_type": "display_data"
    }
   ],
   "source": [
    "demo(minheap(), MinHeap.heapsort)\n",
    "# demo(minheap(), MinHeap.heapsort, fmt='?')"
   ]
  }
 ],
 "metadata": {
  "kernelspec": {
   "display_name": "Python 3 (ipykernel)",
   "language": "python",
   "name": "python3"
  },
  "language_info": {
   "codemirror_mode": {
    "name": "ipython",
    "version": 3
   },
   "file_extension": ".py",
   "mimetype": "text/x-python",
   "name": "python",
   "nbconvert_exporter": "python",
   "pygments_lexer": "ipython3",
   "version": "3.13.5"
  }
 },
 "nbformat": 4,
 "nbformat_minor": 5
}
