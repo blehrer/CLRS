{
 "cells": [
  {
   "cell_type": "markdown",
   "id": "ca85d6ee-6bef-4749-9aaa-0c3163324140",
   "metadata": {},
   "source": [
    "#  Heaps (6.1)\n",
    "## Formal characteristics\n",
    "- Attributes\n",
    "    - length (size of the array)\n",
    "    - heap-size (size of the subarray that are in a heap; can be 0)\n",
    "\n",
    "- Properties of all heaps\n",
    "    - $A[i].parent$ = $A[\\lfloor i/2 \\rfloor]$\n",
    "    - $A[i].leftChild$ = $A[i*2]$\n",
    "    - $A[i].rightChild$ = $A[i*2 + 1]$\n",
    "    - Viewed as a tree\n",
    "        - The height of a node in a heap is the number of edges on the longest simple downward path from the node to a leaf\n",
    "        ```\n",
    "              1               height = 3\n",
    "            /   \\\n",
    "           2     8            height = 2\n",
    "          / \\   / \\\n",
    "         3   4  9  10         height = 1\n",
    "        ```\n",
    "\n",
    "- Properties of `min-heaps`\n",
    "    - *min heap property*: $A[i].parent \\leq A[i]$\n",
    "\n",
    "- Properties of `max-heaps`\n",
    "    - *max heap property*: $A[i].parent \\geq A[i]$\n",
    "\n",
    "- Procedures\n",
    "    - $Max\\-Heapify$\n",
    "        - Time complexity: $O(\\lg n)$\n",
    "        - Maintains the max-heap property\n",
    "    - $BuildMaxHeap$\n",
    "        - Time complexity: $O(n)$\n",
    "        - Converts any array to a max-heap\n",
    "    - $Heapsort$\n",
    "        - Time complexity: $O(n \\lg n)$\n",
    "        - Sorts an array in place \n",
    "    - Priority queue procedures:\n",
    "        - $MaxHeapInsert$\n",
    "            - Time complexity: $O(\\lg n)$\n",
    "        - $HeapExtractMax$\n",
    "            - Time complexity: $O(\\lg n)$\n",
    "        - $HeapIncreaseKey$\n",
    "            - Time complexity: $O(\\lg n)$\n",
    "        - $HeapMaximum$\n",
    "            - Time complexity: $O(\\lg n)$\n",
    "\n",
    "## Usage\n",
    "- min heaps: priority queues\n",
    "- max heaps: heapsort"
   ]
  },
  {
   "cell_type": "markdown",
   "id": "a18145d7-da5b-490a-ae55-734ab9b35446",
   "metadata": {},
   "source": [
    "## Excercises \n",
    "### Min/max cardinality of heap of height $h$ (6.1-1)\n",
    "- max: $2^h - 1$\n",
    "- min: $2^{h-1} + 1$\n",
    "\n",
    "### Show that an $n$-element heap has a height of $\\lfloor \\lg n \\rfloor$ (6.1-2)\n",
    "1. $text{Base case}$: a 0-element heap trivially has a height of $\\lfloor \\lg n \\rfloor$\n",
    "2. $text{Inductive hypothesis (IH)}$: $n$-element heap has a height of $\\lfloor \\lg n \\rfloor$\n",
    "3. $text{Induction steps}$\n",
    "    1. Let us assume $IH$ holds for $n$, and prove it for $n+1$.\n",
    "    2. A parent node may have a maximum of 2 children\n",
    "    3. We know that a min-heap like `[1,2,3]` has a height of 1 ($\\lg 2$), because the maximum number of edges between the root node and a leaf is 1\n",
    "    4. We know that a min-heap like `[1,2]` has a height of 1 ($\\lg 2$), because the maximum number of edges between the root node and a leaf is 1\n",
    "    5. We know that a min-heap like `[1]` has a height of 0 ($\\lg 1$)\n",
    "    6. We observe that this pattern would fan out across all children in the range of $2^i..2^{i+1}$\n",
    "    7. $\\therefore$ we know that an $n$-element heap has a height of $\\lfloor \\lg n \\rfloor$\n",
    "       $QED$\n",
    "\n",
    "### Where in a max heap might the smallest element reside (6.1-4)\n",
    "Assuming elements are distinct, and that the heap is balanced, the smallest element should be an element in the last $x$ elements of the heap, where $x = 2^{(\\lfloor \\lg n\\rfloor)}$"
   ]
  },
  {
   "cell_type": "code",
   "execution_count": null,
   "id": "241b0ff7-8734-4262-8571-8893736220ae",
   "metadata": {},
   "outputs": [],
   "source": []
  }
 ],
 "metadata": {
  "kernelspec": {
   "display_name": "Python 3 (ipykernel)",
   "language": "python",
   "name": "python3"
  },
  "language_info": {
   "codemirror_mode": {
    "name": "ipython",
    "version": 3
   },
   "file_extension": ".py",
   "mimetype": "text/x-python",
   "name": "python",
   "nbconvert_exporter": "python",
   "pygments_lexer": "ipython3",
   "version": "3.13.5"
  }
 },
 "nbformat": 4,
 "nbformat_minor": 5
}
