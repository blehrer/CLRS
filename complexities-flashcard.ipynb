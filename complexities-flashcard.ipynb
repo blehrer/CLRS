{
 "cells": [
  {
   "cell_type": "markdown",
   "id": "82458345-5cf1-4410-906a-4c9cd3d906da",
   "metadata": {},
   "source": [
    "# Sorting algorithms\n",
    "\n",
    "Algorithm | Worst-case running time | Average-case running time | Space complexity\n",
    "----------|-------------------------|---------------------------|------------------\n",
    "Insertion sort | $\\Theta(n^2)$ | $\\Theta(n^2)$ | in-place \n",
    "Merge sort | $\\Theta(n \\lg n)$ |$\\Theta(n \\lg n)$ | not in-place\n",
    "Heapsort | $O(n \\lg n)$ | – | in-place\n",
    "Quicksort | $\\Theta(n^2)$ | $\\Theta(n \\lg n)$ (expected)\n",
    "Counting sort | $\\Theta(k+n)$ | $\\Theta(k+n)$\n",
    "Radix sort | $\\Theta(d(n+k))$ | $\\Theta(d(n+k))$\n",
    "Bucket sort | $\\Theta(n^2)$  | $\\Theta(n)$ (average-case)"
   ]
  },
  {
   "cell_type": "code",
   "execution_count": null,
   "id": "4b3e61e6-25a8-4ac7-8256-2178d2170695",
   "metadata": {},
   "outputs": [],
   "source": []
  },
  {
   "cell_type": "markdown",
   "id": "4653bc93-1e47-4a8d-a981-ad0a4b66b05c",
   "metadata": {},
   "source": [
    "# Order statistics\n",
    "\n",
    "`i`th smallest element ($\\Omega(n \\lg n)$, with no assumptions about input distribution,... see Chapter 9)."
   ]
  }
 ],
 "metadata": {
  "kernelspec": {
   "display_name": "Python 3 (ipykernel)",
   "language": "python",
   "name": "python3"
  },
  "language_info": {
   "codemirror_mode": {
    "name": "ipython",
    "version": 3
   },
   "file_extension": ".py",
   "mimetype": "text/x-python",
   "name": "python",
   "nbconvert_exporter": "python",
   "pygments_lexer": "ipython3",
   "version": "3.14.0"
  }
 },
 "nbformat": 4,
 "nbformat_minor": 5
}
