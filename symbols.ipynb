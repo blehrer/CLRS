{
 "cells": [
  {
   "metadata": {},
   "cell_type": "raw",
   "source": "",
   "id": "40e941bdef44325a"
  },
  {
   "metadata": {
    "collapsed": true
   },
   "cell_type": "markdown",
   "source": [
    "# math\n",
    "$\\log_{2}{n^2}$\n",
    "\n",
    "$\\sum_{lower = 1}^{upper} expression_{lower}$\n",
    "\n",
    "$\\frac{numerator}{divisor}$\n",
    "\n",
    "$a \\times b$\n",
    "\n",
    "$n \\sqrt{n^2}$"
   ],
   "id": "aeb51e35635d6627"
  },
  {
   "metadata": {},
   "cell_type": "markdown",
   "source": [
    "# arrays\n",
    "```\n",
    "┌─┐┏━┓░\n",
    "△ ▽ ▲▼\n",
    "│ │┃ ┃┊┆┅\n",
    "└─┘┗━┛\n",
    " ₀   ₁   ₂   ₃   ₄   ₅   ₆   ₇   ₈   ₉\n",
    " ⁰   ¹   ²   ³   ⁴   ⁵   ⁶   ⁷   ⁸   ⁹\n",
    "  ┌──┐┌──┐┌──┐\n",
    "  │  ▽│  ▽│  ▽\n",
    " ₀   ₁   ₂   ₃   ₄   ₅\n",
    "┌──┐┌──┐┌──┐┏━━┓\n",
    "│31││41││59│┃26┃(41)(58)\n",
    "└──┘└──┘└──┘┗━━┛\n",
    " ▲           ┃\n",
    " ┗━━━━━━━━━━━┛\n",
    "```"
   ],
   "id": "79cc7516d2e19347"
  }
 ],
 "metadata": {
  "kernelspec": {
   "display_name": "Python 3",
   "language": "python",
   "name": "python3"
  },
  "language_info": {
   "codemirror_mode": {
    "name": "ipython",
    "version": 2
   },
   "file_extension": ".py",
   "mimetype": "text/x-python",
   "name": "python",
   "nbconvert_exporter": "python",
   "pygments_lexer": "ipython2",
   "version": "2.7.6"
  }
 },
 "nbformat": 4,
 "nbformat_minor": 5
}
